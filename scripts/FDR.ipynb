{
 "cells": [
  {
   "cell_type": "code",
   "execution_count": 1,
   "metadata": {
    "collapsed": true
   },
   "outputs": [],
   "source": [
    "import numpy as np\n",
    "import pandas as pd"
   ]
  },
  {
   "cell_type": "code",
   "execution_count": 42,
   "metadata": {
    "collapsed": true
   },
   "outputs": [],
   "source": [
    "right_df = pd.read_csv('../../data/right_report.csv')\n",
    "wrong_df = pd.read_csv('../../data/wrong_report.csv')"
   ]
  },
  {
   "cell_type": "code",
   "execution_count": 2,
   "metadata": {
    "collapsed": true
   },
   "outputs": [],
   "source": [
    "def strToDouble(lst):\n",
    "    for i in range(len(lst)):\n",
    "        if (isinstance(lst[i], str)):\n",
    "            lst[i] = float(lst[i].replace(\",\", \".\"))\n",
    "    return lst    "
   ]
  },
  {
   "cell_type": "code",
   "execution_count": 11,
   "metadata": {
    "collapsed": true
   },
   "outputs": [],
   "source": [
    "def MergeList(sr_list, sw_list, rev=True, sml=True):\n",
    "    mergelist = []\n",
    "    for i in range(len(sr_list)):\n",
    "        if (sml or sr_list[i][0] < 1):\n",
    "            mergelist.append((sr_list[i], 0))\n",
    "        \n",
    "    for i in range(len(sw_list)):\n",
    "        if (sml or sw_list[i][0] < 1):\n",
    "            mergelist.append((sw_list[i], 1))\n",
    "    \n",
    "    mergelist.sort(reverse=rev)\n",
    "    return mergelist"
   ]
  },
  {
   "cell_type": "code",
   "execution_count": 4,
   "metadata": {
    "collapsed": true
   },
   "outputs": [],
   "source": [
    "def FDR(mergelist):\n",
    "    curOne = 0\n",
    "\n",
    "    cntElem = []\n",
    "    FDR = []\n",
    "\n",
    "    for i in range(len(mergelist)):\n",
    "        if (i > 0 and mergelist[i - 1][0] != mergelist[i][0]):\n",
    "            cntElem.append(i - curOne)\n",
    "            FDR.append(curOne/i)\n",
    "        curOne += mergelist[i][1]\n",
    "\n",
    "    cntElem.append(len(mergelist))\n",
    "    FDR.append(curOne/len(mergelist))\n",
    "    \n",
    "    return cntElem, FDR"
   ]
  },
  {
   "cell_type": "code",
   "execution_count": 61,
   "metadata": {
    "scrolled": true
   },
   "outputs": [
    {
     "data": {
      "text/plain": [
       "[<matplotlib.lines.Line2D at 0x7f29546a7eb8>]"
      ]
     },
     "execution_count": 61,
     "metadata": {},
     "output_type": "execute_result"
    },
    {
     "data": {
      "image/png": "[encoded data removed]",
      "text/plain": [
       "<matplotlib.figure.Figure at 0x7f295419b7f0>"
      ]
     },
     "metadata": {},
     "output_type": "display_data"
    }
   ],
   "source": [
    "import matplotlib.pyplot as plt\n",
    "%matplotlib inline \n",
    "\n",
    "right_df['p-value by prediction generation'] *= -1\n",
    "wrong_df['p-value by prediction generation'] *= -1\n",
    "\n",
    "\n",
    "x1, y1 = FDR(MergeList(strToDouble(right_df['Score'].tolist()), wrong_df['Score'].tolist()))\n",
    "plt.plot(x1, y1)\n",
    "x3, y3 = FDR(MergeList(right_df['Norm Score By Prediction'].tolist(), wrong_df['Normalized score'].tolist()))\n",
    "plt.plot(x3, y3)\n",
    "x2, y2 = FDR(MergeList(list(zip(right_df['p-value by prediction generation'].tolist(), strToDouble(right_df['Score'].tolist()))),\n",
    "                       list(zip(wrong_df['p-value by prediction generation'].tolist(), wrong_df['Score'].tolist()))))\n",
    "plt.plot(x2, y2)"
   ]
  },
  {
   "cell_type": "code",
   "execution_count": 17,
   "metadata": {
    "collapsed": true
   },
   "outputs": [],
   "source": [
    "def uniqueFDR(mergelist):\n",
    "    curOne = 0\n",
    "    cnt = 0\n",
    "\n",
    "    cntElem = []\n",
    "    FDR = []\n",
    "\n",
    "    used = set()\n",
    "    \n",
    "    for i in range(len(mergelist)):\n",
    "        #print(cnt, curOne, mergelist[i][0][0], mergelist[i][1])\n",
    "        if (i > 0 and mergelist[i - 1][0][0] != mergelist[i][0][0]):\n",
    "            cntElem.append(cnt - curOne)\n",
    "            FDR.append(curOne/cnt)\n",
    "        if (mergelist[i][0][1] not in used):\n",
    "            print(mergelist[i][0][1])\n",
    "            curOne += mergelist[i][1]\n",
    "            cnt += 1\n",
    "            used.add(mergelist[i][0][1])\n",
    "\n",
    "    print(cnt, curOne)\n",
    "    cntElem.append(cnt - curOne)\n",
    "    FDR.append(curOne/cnt)\n",
    "    \n",
    "    return cntElem, FDR"
   ]
  },
  {
   "cell_type": "code",
   "execution_count": 84,
   "metadata": {},
   "outputs": [
    {
     "name": "stdout",
     "output_type": "stream",
     "text": [
      "296 199\n",
      "296 158\n",
      "296 199\n"
     ]
    },
    {
     "data": {
      "text/plain": [
       "[<matplotlib.lines.Line2D at 0x7f294d65fda0>]"
      ]
     },
     "execution_count": 84,
     "metadata": {},
     "output_type": "execute_result"
    },
    {
     "data": {
      "image/png": "[encoded data removed]",
      "text/plain": [
       "<matplotlib.figure.Figure at 0x7f295cce1e48>"
      ]
     },
     "metadata": {},
     "output_type": "display_data"
    }
   ],
   "source": [
    "import matplotlib.pyplot as plt\n",
    "%matplotlib inline \n",
    "\n",
    "right_df['p-value by prediction generation'] *= -1\n",
    "wrong_df['p-value by prediction generation'] *= -1\n",
    "#print(right_df['p-value by prediction generation'])\n",
    "\n",
    "\n",
    "x1, y1 = uniqueFDR(MergeList(list(zip(strToDouble(right_df['Score'].tolist()), right_df['prediction id'].tolist())),\n",
    "                       list(zip(wrong_df['Score'].tolist(), wrong_df['prediction id'].tolist()))))\n",
    "plt.plot(x1, y1)\n",
    "x3, y3 = uniqueFDR(MergeList(list(zip(right_df['Norm Score By Prediction'].tolist(), right_df['prediction id'].tolist())), \n",
    "                       list(zip(wrong_df['Normalized score'].tolist(), wrong_df['prediction id'].tolist()))))\n",
    "plt.plot(x3, y3)\n",
    "x2, y2 = uniqueFDR(MergeList(list(zip(list(zip(right_df['p-value by prediction generation'].tolist(), \n",
    "                                strToDouble(right_df['Score'].tolist()))), \n",
    "                               right_df['prediction id'].tolist())),\n",
    "                       list(zip(list(zip(wrong_df['p-value by prediction generation'].tolist(), \n",
    "                                wrong_df['Score'].tolist())),\n",
    "                               wrong_df['prediction id'].tolist())) ))\n",
    "plt.plot(x2, y2)"
   ]
  },
  {
   "cell_type": "code",
   "execution_count": 88,
   "metadata": {},
   "outputs": [
    {
     "data": {
      "text/plain": [
       "[<matplotlib.lines.Line2D at 0x7f294dfd7e80>]"
      ]
     },
     "execution_count": 88,
     "metadata": {},
     "output_type": "execute_result"
    },
    {
     "data": {
      "image/png": "[encoded data removed]",
      "text/plain": [
       "<matplotlib.figure.Figure at 0x7f294d6a8940>"
      ]
     },
     "metadata": {},
     "output_type": "display_data"
    }
   ],
   "source": [
    "import matplotlib.pyplot as plt\n",
    "%matplotlib inline \n",
    "\n",
    "right_df = pd.read_csv('../../data/rt.csv')\n",
    "wrong_df = pd.read_csv('../../data/wt.csv')\n",
    "\n",
    "right_df['p-value by prediction generation'] *= -1\n",
    "wrong_df['p-value by prediction generation'] *= -1\n",
    "\n",
    "x1, y1 = FDR(MergeList(right_df['Score'].tolist(), wrong_df['Score'].tolist()))\n",
    "plt.plot(x1, y1)\n",
    "x3, y3 = FDR(MergeList(right_df['Norm Score By Prediction'].tolist(), wrong_df['Norm Score By Prediction'].tolist()))\n",
    "plt.plot(x3, y3)\n",
    "x2, y2 = FDR(MergeList(list(zip(right_df['p-value by prediction generation'].tolist(), strToDouble(right_df['Score'].tolist()))),\n",
    "                       list(zip(wrong_df['p-value by prediction generation'].tolist(), wrong_df['Score'].tolist()))))\n",
    "plt.plot(x2, y2)"
   ]
  },
  {
   "cell_type": "code",
   "execution_count": 92,
   "metadata": {},
   "outputs": [
    {
     "name": "stdout",
     "output_type": "stream",
     "text": [
      "245 35\n",
      "245 34\n",
      "245 33\n"
     ]
    },
    {
     "data": {
      "text/plain": [
       "[<matplotlib.lines.Line2D at 0x7f294d376588>]"
      ]
     },
     "execution_count": 92,
     "metadata": {},
     "output_type": "execute_result"
    },
    {
     "data": {
      "image/png": "[encoded data removed]",
      "text/plain": [
       "<matplotlib.figure.Figure at 0x7f294d5ae898>"
      ]
     },
     "metadata": {},
     "output_type": "display_data"
    }
   ],
   "source": [
    "import matplotlib.pyplot as plt\n",
    "%matplotlib inline \n",
    "\n",
    "right_df['p-value by prediction generation'] *= -1\n",
    "wrong_df['p-value by prediction generation'] *= -1\n",
    "#print(right_df['p-value by prediction generation'])\n",
    "\n",
    "\n",
    "x1, y1 = uniqueFDR(MergeList(list(zip(right_df['Score'].tolist(), right_df['prediction id'].tolist())),\n",
    "                       list(zip(wrong_df['Score'].tolist(), wrong_df['prediction id'].tolist()))))\n",
    "plt.plot(x1, y1)\n",
    "x3, y3 = uniqueFDR(MergeList(list(zip(right_df['Norm Score By Prediction'].tolist(), right_df['prediction id'].tolist())), \n",
    "                       list(zip(wrong_df['Norm Score By Prediction'].tolist(), wrong_df['prediction id'].tolist()))))\n",
    "plt.plot(x3, y3)\n",
    "x2, y2 = uniqueFDR(MergeList(list(zip(list(zip(right_df['p-value by prediction generation'].tolist(), \n",
    "                                strToDouble(right_df['Score'].tolist()))), \n",
    "                               right_df['prediction id'].tolist())),\n",
    "                       list(zip(list(zip(wrong_df['p-value by prediction generation'].tolist(), \n",
    "                                wrong_df['Score'].tolist())),\n",
    "                               wrong_df['prediction id'].tolist())) ))\n",
    "plt.plot(x2, y2)"
   ]
  },
  {
   "cell_type": "code",
   "execution_count": 9,
   "metadata": {},
   "outputs": [
    {
     "data": {
      "text/plain": [
       "[<matplotlib.lines.Line2D at 0x7f4a47533710>]"
      ]
     },
     "execution_count": 9,
     "metadata": {},
     "output_type": "execute_result"
    },
    {
     "data": {
      "image/png": "[encoded data removed]",
      "text/plain": [
       "<matplotlib.figure.Figure at 0x7f4a4788b6d8>"
      ]
     },
     "metadata": {},
     "output_type": "display_data"
    }
   ],
   "source": [
    "import matplotlib.pyplot as plt\n",
    "%matplotlib inline \n",
    "\n",
    "right_df = pd.read_csv('../../data/rt.csv')\n",
    "wrong_df = pd.read_csv('../../data/pt.csv')\n",
    "\n",
    "x1, y1 = FDR(MergeList(right_df['Score'].tolist(), wrong_df['score'].tolist()))\n",
    "plt.plot(x1, y1)"
   ]
  },
  {
   "cell_type": "code",
   "execution_count": 10,
   "metadata": {
    "scrolled": true
   },
   "outputs": [
    {
     "name": "stdout",
     "output_type": "stream",
     "text": [
      "236 62\n"
     ]
    },
    {
     "data": {
      "text/plain": [
       "[<matplotlib.lines.Line2D at 0x7f4a43c3f2b0>]"
      ]
     },
     "execution_count": 10,
     "metadata": {},
     "output_type": "execute_result"
    },
    {
     "data": {
      "image/png": "[encoded data removed]",
      "text/plain": [
       "<matplotlib.figure.Figure at 0x7f4a47888fd0>"
      ]
     },
     "metadata": {},
     "output_type": "display_data"
    }
   ],
   "source": [
    "import matplotlib.pyplot as plt\n",
    "%matplotlib inline \n",
    "\n",
    "x1, y1 = uniqueFDR(MergeList(list(zip(right_df['Score'].tolist(), right_df['mol id'].tolist())),\n",
    "                       list(zip(wrong_df['score'].tolist(), wrong_df['mol id'].tolist()))))\n",
    "plt.plot(x1, y1)"
   ]
  },
  {
   "cell_type": "code",
   "execution_count": 6,
   "metadata": {
    "collapsed": true
   },
   "outputs": [],
   "source": [
    "def toInt(lst):\n",
    "    for i in range(len(lst)):\n",
    "        if (lst[i] == '-'):\n",
    "            lst[i] = -1000\n",
    "        else:\n",
    "            lst[i] = float(lst[i])\n",
    "    return lst"
   ]
  },
  {
   "cell_type": "code",
   "execution_count": 18,
   "metadata": {},
   "outputs": [
    {
     "name": "stdout",
     "output_type": "stream",
     "text": [
      "mibig_798\n",
      "mibig_682\n",
      "HLY99-V\n",
      "HLY96-S\n",
      "QYN99-A\n",
      "QYK92-E\n",
      "BOW79-M\n",
      "QCP30-L\n",
      "QCW69-M\n",
      "QYN98-Z\n",
      "BCN63-E\n",
      "LRY16-C\n",
      "antimarin2012_27348\n",
      "antimarin2012_47286\n",
      "LQY02-O\n",
      "MWQ86-D\n",
      "GQY87-O\n",
      "MWQ88-F\n",
      "antimarin2012_27351\n",
      "QMN08-S\n",
      "QMK48-P\n",
      "streptomedb.3052\n",
      "streptomedb.2916\n",
      "antimarin2012_37246\n",
      "antimarin2012_37242\n",
      "antimarin2012_37240\n",
      "antimarin2012_37236\n",
      "PJQ94-Y\n",
      "PJQ77-V\n",
      "QMN09-T\n",
      "CLP93-T\n",
      "CLL31-F\n",
      "CLL30-E\n",
      "mibig_92\n",
      "antimarin2012_37244\n",
      "antimarin2012_37238\n",
      "antimarin2012_24106\n",
      "antimarin2012_47853\n",
      "antimarin2012_35354\n",
      "QRY79-A\n",
      "CMD95-U\n",
      "CLL36-K\n",
      "antimarin2012_27355\n",
      "PVS77-L\n",
      "BOV12-I\n",
      "BOV11-H\n",
      "BOV10-G\n",
      "mibig_466\n",
      "antimarin2012_37243\n",
      "antimarin2012_37237\n",
      "antimarin2012_37234\n",
      "CLL34-I\n",
      "antimarin2012_27354\n",
      "antimarin2012_27353\n",
      "streptomedb.3019\n",
      "streptomedb.3018\n",
      "streptomedb.3001\n",
      "streptomedb.2987\n",
      "HLY92-O\n",
      "HLY91-N\n",
      "BCN67-I\n",
      "BCN65-G\n",
      "GQY89-Q\n",
      "antimarin2012_10211\n",
      "PVY02-P\n",
      "BOV09-M\n",
      "antimarin2012_37245\n",
      "antimarin2012_37241\n",
      "antimarin2012_37239\n",
      "antimarin2012_37235\n",
      "JJN76-R\n",
      "antimarin2012_37580\n",
      "antimarin2012_37584\n",
      "antimarin2012_37583\n",
      "QSG56-M\n",
      "KYS61-U\n",
      "KYS58-Y\n",
      "KYS54-U\n",
      "KYS53-T\n",
      "JXY52-E\n",
      "MRX90-A\n",
      "BOV06-J\n",
      "BOV01-E\n",
      "streptomedb.3905\n",
      "antimarin2012_12112\n",
      "streptomedb.3906\n",
      "streptomedb.3904\n",
      "mibig_724\n",
      "mibig_154\n",
      "JJM23-U\n",
      "antimarin2012_10213\n",
      "antimarin2012_10212\n",
      "mibig_597\n",
      "MWQ85-C\n",
      "BCN69-K\n",
      "antimarin2012_11741\n",
      "MWQ89-G\n",
      "MWQ87-E\n",
      "antimarin2012_16417\n",
      "JXY56-I\n",
      "antimarin2012_32180\n",
      "GQY90-K\n",
      "streptomedb.3903\n",
      "antimarin2012_50930\n",
      "antimarin2012_46572\n",
      "antimarin2012_37582\n",
      "antimarin2012_37581\n",
      "streptomedb.3026\n",
      "streptomedb.3025\n",
      "streptomedb.3024\n",
      "streptomedb.3014\n",
      "streptomedb.3000\n",
      "mibig_723\n",
      "antimarin2012_55970\n",
      "antimarin2012_33077\n",
      "antimarin2012_32086\n",
      "antimarin2012_27002\n",
      "antimarin2012_25889\n",
      "PJQ96-A\n",
      "NZJ35-K\n",
      "NZJ30-F\n",
      "NZJ26-I\n",
      "NZJ23-F\n",
      "KYS59-Z\n",
      "KYS56-W\n",
      "HKY27-R\n",
      "antimarin2012_47332\n",
      "JNJ55-S\n",
      "QYO09-E\n",
      "QYO04-Z\n",
      "QYO03-Y\n",
      "QYO01-W\n",
      "QYO00-V\n",
      "QSL54-J\n",
      "antimarin2012_28820\n",
      "antimarin2012_24100\n",
      "antimarin2012_24097\n",
      "antimarin2012_35880\n",
      "PVC16-Q\n",
      "antimarin2012_21977\n",
      "antimarin2012_48308\n",
      "antimarin2012_44712\n",
      "OKQ83-Q\n",
      "OKQ82-P\n",
      "OKQ80-N\n",
      "OKQ78-S\n",
      "KCH49-V\n",
      "antimarin2012_49214\n",
      "QYK71-X\n",
      "QYK70-W\n",
      "BCQ66-W\n",
      "antimarin2012_28817\n",
      "antimarin2012_28815\n",
      "antimarin2012_24096\n",
      "antimarin2012_53073\n",
      "QVX15-B\n",
      "streptomedb.3840\n",
      "antimarin2012_28307\n",
      "antimarin2012_54195\n",
      "antimarin2012_53476\n",
      "antimarin2012_60784\n",
      "antimarin2012_47554\n",
      "antimarin2012_45497\n",
      "antimarin2012_45491\n",
      "PGN93-N\n",
      "JOW91-U\n",
      "JOW50-H\n",
      "mibig_686\n",
      "antimarin2012_25137\n",
      "QWH52-P\n",
      "QCP28-Q\n",
      "QNK23-L\n",
      "QNF59-B\n",
      "antimarin2012_38726\n",
      "POG25-P\n",
      "POG24-O\n",
      "PNZ76-P\n",
      "antimarin2012_54159\n",
      "antimarin2012_27347\n",
      "antimarin2012_58939\n",
      "QCP29-R\n",
      "QVX16-C\n",
      "antimarin2012_51851\n",
      "antimarin2012_52012\n",
      "antimarin2012_56724\n",
      "antimarin2012_4942\n",
      "QYL63-B\n",
      "QVX17-D\n",
      "antimarin2012_53210\n",
      "QYL64-C\n",
      "antimarin2012_57910\n",
      "QKV70-F\n",
      "antimarin2012_48368\n",
      "antimarin2012_48367\n",
      "streptomedb.172\n",
      "antimarin2012_20849\n",
      "antimarin2012_7905\n",
      "antimarin2012_27350\n",
      "antimarin2012_45190\n",
      "QFB87-K\n",
      "CDV24-Z\n",
      "antimarin2012_55050\n",
      "antimarin2012_52452\n",
      "mibig_601\n",
      "antimarin2012_28052\n",
      "QWK05-S\n",
      "QWK04-R\n",
      "LYS80-K\n",
      "JTO33-Z\n",
      "QWK35-B\n",
      "NRX07-R\n",
      "antimarin2012_50943\n",
      "antimarin2012_27349\n",
      "antimarin2012_35881\n",
      "mibig_905\n",
      "antimarin2012_59573\n",
      "antimarin2012_59572\n",
      "antimarin2012_44297\n",
      "antimarin2012_44120\n",
      "antimarin2012_44118\n",
      "antimarin2012_38808\n",
      "antimarin2012_25136\n",
      "QMN75-K\n",
      "QMN74-J\n",
      "QKX14-B\n",
      "QKX13-A\n",
      "QKX12-Z\n",
      "QKX11-Y\n",
      "QFP97-F\n",
      "PVK29-K\n",
      "MBT08-F\n",
      "GYF27-J\n",
      "CKC17-F\n",
      "CKC14-C\n",
      "CKC12-A\n",
      "CKC11-Z\n",
      "236 62\n",
      "antimarin2012_47853\n",
      "BCN65-G\n",
      "BCN63-E\n",
      "mibig_92\n",
      "BOW79-M\n",
      "antimarin2012_35354\n",
      "QRY79-A\n",
      "CMD95-U\n",
      "CLL36-K\n",
      "antimarin2012_44988\n",
      "antimarin2012_44712\n",
      "antimarin2012_25137\n",
      "antimarin2012_19563\n",
      "QYK71-X\n",
      "QYK70-W\n",
      "HKY27-R\n",
      "NRT47-J\n",
      "NRT46-I\n",
      "streptomedb.2916\n",
      "BCQ66-W\n",
      "antimarin2012_10213\n",
      "antimarin2012_10212\n",
      "PVS77-L\n",
      "BOV12-I\n",
      "BOV11-H\n",
      "antimarin2012_37240\n",
      "antimarin2012_37238\n",
      "antimarin2012_37239\n",
      "antimarin2012_44297\n",
      "antimarin2012_44120\n",
      "antimarin2012_44118\n",
      "PVK29-K\n",
      "PKS83-L\n",
      "KYS54-U\n",
      "KYS53-T\n",
      "CLP93-T\n",
      "CLL31-F\n",
      "CLL30-E\n",
      "antimarin2012_27347\n",
      "MWQ86-D\n",
      "MWQ85-C\n",
      "BCN67-I\n",
      "antimarin2012_27354\n",
      "antimarin2012_27353\n",
      "QCP29-R\n",
      "QMN08-S\n",
      "QMK48-P\n",
      "streptomedb.3052\n",
      "CLL34-I\n",
      "antimarin2012_48368\n",
      "antimarin2012_48367\n",
      "KYS61-U\n",
      "KYS59-Z\n",
      "KYS58-Y\n",
      "KYS56-W\n",
      "QVX15-B\n",
      "antimarin2012_37237\n",
      "antimarin2012_37236\n",
      "antimarin2012_37235\n",
      "antimarin2012_27349\n",
      "antimarin2012_14888\n",
      "PKS82-K\n",
      "GQY90-K\n",
      "GQY87-O\n",
      "antimarin2012_27355\n",
      "antimarin2012_56362\n",
      "antimarin2012_25136\n",
      "QMN75-K\n",
      "QMN74-J\n",
      "NZJ35-K\n",
      "NZJ30-F\n",
      "NZJ26-I\n",
      "NZJ23-F\n",
      "antimarin2012_48308\n",
      "BCN69-K\n",
      "QVX16-C\n",
      "LQY02-O\n",
      "antimarin2012_45007\n",
      "antimarin2012_38808\n",
      "OKQ83-Q\n",
      "OKQ82-P\n",
      "OKQ80-N\n",
      "OKQ78-S\n",
      "KCH49-V\n",
      "CHC01-B\n",
      "CHB53-N\n",
      "JTO33-Z\n",
      "PVY02-P\n",
      "MRX90-A\n",
      "BOV10-G\n",
      "BOV09-M\n",
      "BOV06-J\n",
      "BOV01-E\n",
      "antimarin2012_47286\n",
      "LRY16-C\n",
      "antimarin2012_37244\n",
      "antimarin2012_24106\n",
      "antimarin2012_37234\n",
      "QMN09-T\n",
      "QWK05-S\n",
      "JRD64-S\n",
      "GYF27-J\n",
      "MWQ89-G\n",
      "MWQ88-F\n",
      "NRX07-R\n",
      "NRX09-T\n",
      "GQY89-Q\n",
      "mibig_466\n",
      "CKC11-Z\n",
      "PJQ96-A\n",
      "PJQ94-Y\n",
      "PJQ77-V\n",
      "HLY99-V\n",
      "HLY96-S\n",
      "HLY92-O\n",
      "HLY91-N\n",
      "streptomedb.3019\n",
      "streptomedb.3018\n",
      "streptomedb.3014\n",
      "streptomedb.3001\n",
      "streptomedb.3000\n",
      "streptomedb.2987\n",
      "mibig_723\n",
      "antimarin2012_54646\n",
      "QVX17-D\n",
      "antimarin2012_37246\n",
      "antimarin2012_37242\n",
      "antimarin2012_37245\n",
      "antimarin2012_37241\n",
      "QFP97-F\n",
      "CKC17-F\n",
      "CKC14-C\n",
      "CKC12-A\n",
      "antimarin2012_27351\n",
      "antimarin2012_27350\n",
      "antimarin2012_27348\n",
      "antimarin2012_27002\n",
      "antimarin2012_25889\n",
      "MBT08-F\n",
      "JNJ55-S\n",
      "QFC32-V\n",
      "LFH04-K\n",
      "LCX55-H\n",
      "HSZ94-S\n",
      "CRO40-M\n",
      "MWQ87-E\n",
      "antimarin2012_58939\n",
      "antimarin2012_10211\n",
      "antimarin2012_4425\n",
      "antimarin2012_18345\n",
      "POG24-O\n",
      "antimarin2012_45491\n",
      "antimarin2012_14748\n",
      "antimarin2012_37243\n",
      "antimarin2012_47332\n",
      "JXY58-K\n",
      "QKX11-Y\n",
      "JOW91-U\n",
      "QWK04-R\n",
      "POG25-P\n",
      "PNZ76-P\n",
      "antimarin2012_28820\n",
      "antimarin2012_24097\n",
      "QKX13-A\n",
      "QKX12-Z\n",
      "mibig_686\n",
      "mibig_905\n",
      "QYO09-E\n",
      "QYO04-Z\n",
      "QYO03-Y\n",
      "QYO01-W\n",
      "QYO00-V\n",
      "antimarin2012_33077\n",
      "antimarin2012_32086\n",
      "antimarin2012_24100\n",
      "QKX14-B\n",
      "QSG56-M\n",
      "JXY52-E\n",
      "antimarin2012_45497\n",
      "QCW69-M\n",
      "PGN93-N\n",
      "JOW50-H\n",
      "antimarin2012_47554\n",
      "antimarin2012_54195\n",
      "streptomedb.3026\n",
      "streptomedb.3025\n",
      "streptomedb.3024\n",
      "antimarin2012_48252\n",
      "GYC74-G\n",
      "JMS03-N\n",
      "antimarin2012_37825\n",
      "antimarin2012_7778\n",
      "QCP28-Q\n",
      "antimarin2012_54056\n",
      "QCP30-L\n",
      "streptomedb.3906\n",
      "streptomedb.3904\n",
      "KZY54-F\n",
      "MSZ65-N\n",
      "streptomedb.3905\n",
      "streptomedb.3903\n",
      "CVY76-B\n",
      "mibig_724\n",
      "mibig_154\n",
      "antimarin2012_20281\n",
      "antimarin2012_24096\n",
      "antimarin2012_51851\n",
      "QWK35-B\n",
      "LQY20-S\n",
      "antimarin2012_28817\n",
      "antimarin2012_28815\n",
      "antimarin2012_46572\n",
      "JJN76-R\n",
      "antimarin2012_14887\n",
      "antimarin2012_47768\n",
      "antimarin2012_49214\n",
      "QYN99-A\n",
      "QYK92-E\n",
      "JXY56-I\n",
      "QMD52-D\n",
      "antimarin2012_50943\n",
      "QYL64-C\n",
      "JJM23-U\n",
      "PVC12-M\n",
      "QYN98-Z\n",
      "CKS73-V\n",
      "OJL16-S\n",
      "mibig_614\n",
      "mibig_798\n",
      "antimarin2012_35475\n",
      "antimarin2012_35879\n",
      "antimarin2012_37580\n",
      "antimarin2012_35881\n",
      "antimarin2012_52453\n",
      "antimarin2012_49375\n",
      "antimarin2012_54635\n",
      "antimarin2012_37582\n",
      "antimarin2012_48029\n",
      "antimarin2012_37584\n",
      "antimarin2012_33986\n",
      "mibig_597\n",
      "antimarin2012_37583\n",
      "antimarin2012_51000\n",
      "mibig_682\n",
      "antimarin2012_37581\n",
      "antimarin2012_35880\n",
      "antimarin2012_32179\n",
      "antimarin2012_51001\n",
      "antimarin2012_52120\n",
      "antimarin2012_52500\n",
      "antimarin2012_51455\n",
      "antimarin2012_35777\n",
      "antimarin2012_52502\n",
      "mibig_601\n",
      "antimarin2012_37587\n",
      "255 49\n"
     ]
    },
    {
     "data": {
      "text/plain": [
       "[<matplotlib.lines.Line2D at 0x7f63200fb518>]"
      ]
     },
     "execution_count": 18,
     "metadata": {},
     "output_type": "execute_result"
    },
    {
     "data": {
      "image/png": "[encoded data removed]",
      "text/plain": [
       "<matplotlib.figure.Figure at 0x7f63200fb080>"
      ]
     },
     "metadata": {},
     "output_type": "display_data"
    }
   ],
   "source": [
    "import matplotlib.pyplot as plt\n",
    "%matplotlib inline\n",
    "\n",
    "right_df = pd.read_csv('../../data/rt.csv')\n",
    "wrong_df = pd.read_csv('../../data/pt.csv')\n",
    "\n",
    "x1, y1 = uniqueFDR(MergeList(list(zip(right_df['Score'].tolist(), right_df['mol id'].tolist())),\n",
    "                       list(zip(wrong_df['score'].tolist(), wrong_df['mol id'].tolist()))))\n",
    "\n",
    "right_df = pd.read_csv('../../data/garlic/report.csv', sep='\\t')\n",
    "wrong_df = pd.read_csv('../../data/garlic/dreport.csv', sep='\\t')\n",
    "\n",
    "x2, y2 = uniqueFDR(MergeList(list(zip(toInt(right_df['s1'].tolist()), right_df['mols'].tolist())),\n",
    "                       list(zip(toInt(wrong_df['s1'].tolist()), wrong_df['mols'].tolist())), True, False))\n",
    "\n",
    "plt.plot(x1, y1)\n",
    "plt.plot(x2, y2)"
   ]
  },
  {
   "cell_type": "code",
   "execution_count": null,
   "metadata": {
    "collapsed": true
   },
   "outputs": [],
   "source": []
  }
 ],
 "metadata": {
  "kernelspec": {
   "display_name": "Python 3",
   "language": "python",
   "name": "python3"
  },
  "language_info": {
   "codemirror_mode": {
    "name": "ipython",
    "version": 3
   },
   "file_extension": ".py",
   "mimetype": "text/x-python",
   "name": "python",
   "nbconvert_exporter": "python",
   "pygments_lexer": "ipython3",
   "version": "3.6.1"
  }
 },
 "nbformat": 4,
 "nbformat_minor": 2
}
