{
 "cells": [
  {
   "cell_type": "code",
   "execution_count": 1,
   "metadata": {},
   "outputs": [
    {
     "name": "stderr",
     "output_type": "stream",
     "text": [
      "RDKit WARNING: [03:46:33] Enabling RDKit 2019.09.3 jupyter extensions\n"
     ]
    }
   ],
   "source": [
    "from rdkit import Chem as rdc\n",
    "from collections import defaultdict\n",
    "import json"
   ]
  },
  {
   "cell_type": "markdown",
   "metadata": {},
   "source": [
    "# Script"
   ]
  },
  {
   "cell_type": "markdown",
   "metadata": {},
   "source": [
    "## Single Monomer"
   ]
  },
  {
   "cell_type": "code",
   "execution_count": 2,
   "metadata": {},
   "outputs": [],
   "source": [
    "class NoChiralCenters(Exception):\n",
    "    pass\n",
    "class NoCarboxyl(Exception):\n",
    "    pass\n",
    "class WTF(Exception):\n",
    "    pass"
   ]
  },
  {
   "cell_type": "code",
   "execution_count": null,
   "metadata": {},
   "outputs": [],
   "source": []
  },
  {
   "cell_type": "code",
   "execution_count": 3,
   "metadata": {},
   "outputs": [],
   "source": [
    "def get_aa_chirality(smi):\n",
    "    mol = rdc.MolFromSmiles(smi)\n",
    "    chiral_centers = rdc.FindMolChiralCenters(mol)\n",
    "    if not chiral_centers:\n",
    "        raise NoChiralCenters\n",
    "    \n",
    "    RCN_pattern = 'RCN' * 2\n",
    "    NCR_pattern = 'NCR' * 2\n",
    "    def _get_chirality(match, q):\n",
    "        for idx, rs in chiral_centers:\n",
    "            #\n",
    "            # Sadly, we cannot make use of rs here, see \n",
    "            # https://chemistry.stackexchange.com/questions/90826/difference-between-ld-and-sr-in-naming\n",
    "            #\n",
    "            if idx in match:\n",
    "                ch_center = mol.GetAtomWithIdx(idx)\n",
    "                neighbors = [a.GetIdx() for a in ch_center.GetNeighbors()]\n",
    "                for match_cooh in mol.GetSubstructMatches(q):\n",
    "                    neighbor_tags = []\n",
    "                    for n in neighbors:\n",
    "                        if n in match_cooh:\n",
    "                            neighbor_tags.append('C')\n",
    "                        elif mol.GetAtomWithIdx(n).GetSymbol() == 'N': \n",
    "                            neighbor_tags.append('N')\n",
    "                        else:\n",
    "                            neighbor_tags.append('R')\n",
    "                    neighbor_tags = ''.join(neighbor_tags)\n",
    "\n",
    "                    # since glutamic acid has several COOH matches\n",
    "                    if neighbor_tags in RCN_pattern or neighbor_tags in NCR_pattern:\n",
    "                        if ch_center.GetChiralTag() == rdc.rdchem.ChiralType.CHI_TETRAHEDRAL_CCW:\n",
    "                            return neighbor_tags in RCN_pattern\n",
    "                        else:\n",
    "                            return neighbor_tags in NCR_pattern\n",
    "        return None\n",
    "    \n",
    "    # try beta\n",
    "    query_beta = rdc.MolFromSmarts('NCC([C](=O)O)')\n",
    "    match_beta = mol.GetSubstructMatch(query_beta)\n",
    "    res_beta = None\n",
    "    if match_beta:\n",
    "        q = rdc.MolFromSmarts('CC([C](=O)O)')\n",
    "        res_beta = _get_chirality(match_beta, q)\n",
    "    \n",
    "    # try alpha\n",
    "    query_alpha = rdc.MolFromSmarts('NC([C](=O)O)')\n",
    "    match_alpha = mol.GetSubstructMatch(query_alpha)\n",
    "    res_alpha = None\n",
    "    if match_alpha:\n",
    "        q = rdc.MolFromSmarts('C([C](=O)O)')\n",
    "        res_alpha = _get_chirality(match_alpha, q)\n",
    "    \n",
    "    if not match_alpha and not match_beta:\n",
    "        raise NoCarboxyl\n",
    "    \n",
    "#     if res_alpha is not None:\n",
    "#         if res_beta is not None:\n",
    "#             raise WTF\n",
    "#         else:\n",
    "#             return res_alpha\n",
    "    if res_alpha is not None:\n",
    "        return res_alpha\n",
    "    if res_beta is not None:\n",
    "        return res_beta\n",
    "    raise WTF"
   ]
  },
  {
   "cell_type": "markdown",
   "metadata": {},
   "source": [
    "## Single Molecule"
   ]
  },
  {
   "cell_type": "markdown",
   "metadata": {},
   "source": [
    "### Splitting"
   ]
  },
  {
   "cell_type": "code",
   "execution_count": 4,
   "metadata": {},
   "outputs": [],
   "source": [
    "def get_monomer_bonds(mol, rban_record):\n",
    "    atomic_bonds = rban_record[\"atomicGraph\"][\"atomicGraph\"]['bonds']\n",
    "    monomer_bonds_list = rban_record[\"monomericGraph\"][\"monomericGraph\"]['bonds']\n",
    "    \n",
    "    monomer_bonds = []\n",
    "    monomer_bond_types = []\n",
    "    for bond_rec in monomer_bonds_list:\n",
    "        for x in bond_rec['bond']['atomicIndexes']:\n",
    "            b_ = mol.GetBondBetweenAtoms(*atomic_bonds[x]['atoms'])\n",
    "            if b_:\n",
    "                monomer_bonds.append(b_.GetIdx())\n",
    "                monomer_bond_types.append(bond_rec['bond'][\"bondTypes\"][0])\n",
    "    \n",
    "    return monomer_bonds, monomer_bond_types"
   ]
  },
  {
   "cell_type": "code",
   "execution_count": 5,
   "metadata": {},
   "outputs": [],
   "source": [
    "def split_amino(rwmol, bonds, trans=False):\n",
    "    for b_idx in sorted(bonds, reverse=True):\n",
    "        # reverse because when a bond or atom is deleted, the bond or \n",
    "        # atom indices are remapped. If you remove bonds with a higher index first,\n",
    "        # bonds with lower indices will not be remapped.\n",
    "        b = rwmol.GetBondWithIdx(b_idx)\n",
    "        st_ = b.GetBeginAtomIdx()\n",
    "        end_ = b.GetEndAtomIdx()\n",
    "        \n",
    "        rwmol.RemoveBond(st_, end_)\n",
    "        new_bond_type = rdc.BondType.DOUBLE if trans else rdc.BondType.SINGLE \n",
    "        if rwmol.GetAtomWithIdx(end_).GetSymbol() == 'C': \n",
    "            new_id = rwmol.AddAtom(rdc.Atom(8))\n",
    "            rwmol.AddBond(end_, new_id, new_bond_type)\n",
    "        if rwmol.GetAtomWithIdx(st_).GetSymbol() == 'C': \n",
    "            new_id = rwmol.AddAtom(rdc.Atom(8))\n",
    "            rwmol.AddBond(st_, new_id, new_bond_type)\n",
    "    return rwmol"
   ]
  },
  {
   "cell_type": "code",
   "execution_count": 6,
   "metadata": {},
   "outputs": [],
   "source": [
    "def split_hetero(rwmol, bonds):\n",
    "    \n",
    "    carbon_ends = set()\n",
    "    for b_idx in sorted(bonds, reverse=True):\n",
    "        b = rwmol.GetBondWithIdx(b_idx)\n",
    "        st_ = b.GetBeginAtomIdx()\n",
    "        end_ = b.GetEndAtomIdx()\n",
    "        rwmol.RemoveBond(st_, end_)\n",
    "        for a in (st_, end_):\n",
    "            if rwmol.GetAtomWithIdx(a).GetSymbol() == 'C': \n",
    "                carbon_ends.add(a)\n",
    "    \n",
    "    for a in carbon_ends:\n",
    "        atom = rwmol.GetAtomWithIdx(a)\n",
    "        atom.SetNumExplicitHs(0)\n",
    "        atom.UpdatePropertyCache()\n",
    "        valence = atom.GetExplicitValence()\n",
    "        \n",
    "        if valence == 1:\n",
    "            new_id1 = rwmol.AddAtom(rdc.Atom(8))\n",
    "            rwmol.AddBond(a, new_id1, rdc.BondType.SINGLE)\n",
    "\n",
    "            new_id2 = rwmol.AddAtom(rdc.Atom(8))\n",
    "            rwmol.AddBond(a, new_id2, rdc.BondType.DOUBLE)\n",
    "        elif valence == 2:\n",
    "            new_id2 = rwmol.AddAtom(rdc.Atom(8))\n",
    "            rwmol.AddBond(a, new_id2, rdc.BondType.DOUBLE)\n",
    "        elif valence == 3:\n",
    "            new_id2 = rwmol.AddAtom(rdc.Atom(8))\n",
    "            rwmol.AddBond(a, new_id2, rdc.BondType.SINGLE)\n",
    "        \n",
    "    return rwmol"
   ]
  },
  {
   "cell_type": "code",
   "execution_count": 7,
   "metadata": {},
   "outputs": [],
   "source": [
    "def split_by_monomer_bonds(rban_record):\n",
    "    HYDROX = ['AMINO', 'ESTER', 'THIOETHER', 'CARBON_CARBON', 'NITROGEN_CARBON2', \n",
    "              'NITROGEN_CARBON',\n",
    "              'CARBON_CARBOXIL', 'CARBOXIL_CARBOXIL', 'GLYCOSIDIC']\n",
    "    HYDROX_TRANS = ['AMINO_TRANS']\n",
    "    HETERO = ['HETEROCYCLE', 'THIAZOLE_CYCLE', 'PYRIMIDINE_CYCLE']\n",
    "    \n",
    "    mol = rdc.MolFromSmiles(rban_record['isomericSmiles'])\n",
    "    # kekulize so that we would not get this annoying Aromatic flag exception\n",
    "    rdc.Kekulize(mol, clearAromaticFlags=True)\n",
    "    \n",
    "    # we will need editable mol instance\n",
    "    rwmol = rdc.RWMol(mol)\n",
    "    monomers = rban_record['monomericGraph']['monomericGraph']['monomers']\n",
    "    \n",
    "    bonds, types = get_monomer_bonds(rwmol, rban_record)\n",
    "    amino_bonds = [b for b, t in zip(bonds, types) if t in HYDROX]\n",
    "    rwmol = split_amino(rwmol, amino_bonds, trans=False)\n",
    "    \n",
    "    bonds, types = get_monomer_bonds(rwmol, rban_record)\n",
    "    amino_trans_bonds = [b for b, t in zip(bonds, types) if t in HYDROX_TRANS]\n",
    "    if amino_trans_bonds:\n",
    "        rwmol = split_amino(rwmol, amino_trans_bonds, trans=True)\n",
    "    \n",
    "    # TODO: consider other(?) bond types\n",
    "    \n",
    "#     display(rdc.Draw.MolsToGridImage(rdc.GetMolFrags(rwmol, asMols=True)))\n",
    "    \n",
    "    bonds, types = get_monomer_bonds(rwmol, rban_record)\n",
    "    hetero_bonds = [b for b, t in zip(bonds, types) if t in HETERO]\n",
    "    if hetero_bonds:\n",
    "        rwmol = split_hetero(rwmol, hetero_bonds)\n",
    " \n",
    "#     display(rdc.Draw.MolsToGridImage(rdc.GetMolFrags(rwmol, asMols=True)))\n",
    "\n",
    "    \n",
    "    frag_ids = rdc.GetMolFrags(rwmol)\n",
    "    frag_smi = [rdc.MolToSmiles(x) for x in rdc.GetMolFrags(rwmol, asMols=True)]\n",
    "\n",
    "    monomer_smiles_dict = defaultdict(list)\n",
    "    for k, monomer in enumerate(monomers):\n",
    "        monomer_atoms = set(monomer['monomer']['atoms'])\n",
    "        for i, frag_atoms in enumerate(map(set, frag_ids)):\n",
    "            if len(monomer_atoms & frag_atoms) > 0:\n",
    "                monomer_smiles_dict[k].append(frag_smi[i])\n",
    "    return monomer_smiles_dict"
   ]
  },
  {
   "cell_type": "markdown",
   "metadata": {},
   "source": [
    "### Get chirality"
   ]
  },
  {
   "cell_type": "code",
   "execution_count": 8,
   "metadata": {},
   "outputs": [],
   "source": [
    "def get_monomers_chirality(rban_record, debug=False):\n",
    "    monomers = rban_record['monomericGraph']['monomericGraph']['monomers']\n",
    "    monomer_smiles_dict = split_by_monomer_bonds(rban_record)\n",
    "    res = []\n",
    "    for i in range(len(monomers)):\n",
    "        try:\n",
    "            res.append(get_aa_chirality(monomer_smiles_dict[i][0]))\n",
    "        except NoChiralCenters:\n",
    "            if debug: print(f'{i}: NoChiralCenters')\n",
    "            res.append(False)\n",
    "        except NoCarboxyl:\n",
    "            if debug: print(f'{i}: NoCarboxyl')\n",
    "            res.append(False)\n",
    "        except WTF:\n",
    "            print(f'{i}: WTF:', monomer_smiles_dict[i][0])\n",
    "            res.append(False)\n",
    "    return res"
   ]
  },
  {
   "cell_type": "code",
   "execution_count": null,
   "metadata": {},
   "outputs": [],
   "source": []
  },
  {
   "cell_type": "markdown",
   "metadata": {},
   "source": [
    "# Tests"
   ]
  },
  {
   "cell_type": "markdown",
   "metadata": {},
   "source": [
    "## AA chirality"
   ]
  },
  {
   "cell_type": "code",
   "execution_count": 9,
   "metadata": {},
   "outputs": [
    {
     "name": "stdout",
     "output_type": "stream",
     "text": [
      "L-(-)-Theanine\n",
      "False False False False False \n",
      "\n",
      "D-(+)-Theanine\n",
      "True True True True True \n",
      "\n",
      "L-beta-Phenylalanine\n",
      "False False False False False \n",
      "\n",
      "D-beta-Phenylalanine\n",
      "True True True True True \n",
      "\n",
      "D-Phenylalanine\n",
      "True True True True True \n",
      "\n",
      "L-2-Aminobutyric acid\n",
      "False False False False False \n",
      "\n",
      "D-2-Aminobutyric acid\n",
      "True True True True True \n",
      "\n",
      "L-glutamic acid\n",
      "False False False False False \n",
      "\n",
      "D-glutamic acid\n",
      "True True True True True \n",
      "\n"
     ]
    }
   ],
   "source": [
    "tests = [\n",
    "    ('C[C@H]([C@@H](C(=O)O)N)O', 'L-(-)-Theanine'),\n",
    "    ('C[C@@H]([C@H](C(=O)O)N)O', 'D-(+)-Theanine'),\n",
    "    ('C1=CC=C(C=C1)[C@@H](CC(=O)[O-])[NH3+]', 'L-beta-Phenylalanine'),\n",
    "    ('C1=CC=C(C=C1)[C@H](CC(=O)[O-])[NH3+]', 'D-beta-Phenylalanine'),\n",
    "    ('C1=CC=C(C=C1)C[C@H](C(=O)O)N', 'D-Phenylalanine'),\n",
    "    ('CC[C@@H](C(=O)O)N', 'L-2-Aminobutyric acid'),\n",
    "    ('CC[C@H](C(=O)O)N', 'D-2-Aminobutyric acid'),\n",
    "    ('C(CC(=O)O)[C@@H](C(=O)O)N', 'L-glutamic acid'),\n",
    "    ('C(CC(=O)O)[C@H](C(=O)O)N', 'D-glutamic acid'),\n",
    "]\n",
    "\n",
    "for s, n in tests:\n",
    "    print(n)\n",
    "    for _ in range(5):\n",
    "        rs = rdc.MolToSmiles(rdc.MolFromSmiles(s), doRandom=True)\n",
    "        print(get_aa_chirality(rs), end=' ')\n",
    "    print(end='\\n\\n')"
   ]
  },
  {
   "cell_type": "code",
   "execution_count": null,
   "metadata": {},
   "outputs": [],
   "source": []
  },
  {
   "cell_type": "markdown",
   "metadata": {},
   "source": [
    "## DL for monomers in compound"
   ]
  },
  {
   "cell_type": "code",
   "execution_count": 10,
   "metadata": {},
   "outputs": [],
   "source": [
    "mibig_results_json = json.loads(open('TestNerpa_MiBig_base/structure.info.output.json').read())"
   ]
  },
  {
   "cell_type": "markdown",
   "metadata": {},
   "source": [
    "### TestMIBig bond types"
   ]
  },
  {
   "cell_type": "code",
   "execution_count": 11,
   "metadata": {},
   "outputs": [],
   "source": [
    "bond_type_to_compounds = defaultdict(list)\n",
    "for i, res in enumerate(mibig_results_json):\n",
    "    for bond in res['monomericGraph']['monomericGraph']['bonds']:\n",
    "        bond_type_to_compounds[bond['bond']['bondTypes'][0]].append(i)\n",
    "for k in bond_type_to_compounds.keys():\n",
    "    bond_type_to_compounds[k] = sorted(list(set(bond_type_to_compounds[k])))"
   ]
  },
  {
   "cell_type": "code",
   "execution_count": 12,
   "metadata": {},
   "outputs": [
    {
     "name": "stdout",
     "output_type": "stream",
     "text": [
      "AMINO [0, 1, 2, 3, 4, 5, 6, 7, 8, 9]\n",
      "ESTER [2, 13, 14, 15, 18, 19, 20, 21, 24, 25]\n",
      "CARBON_CARBOXIL [22, 29]\n",
      "NITROGEN_CARBON2 [26]\n",
      "THIAZOLE_CYCLE [30, 35, 44, 52]\n",
      "CARBON_CARBON [33]\n",
      "GLYCOSIDIC [42, 78]\n",
      "PYRIMIDINE_CYCLE [47]\n",
      "HETEROCYCLE [47, 54, 71, 78]\n",
      "AMINO_TRANS [72]\n"
     ]
    }
   ],
   "source": [
    "for k,v in bond_type_to_compounds.items():\n",
    "    print(k, v[:10])"
   ]
  },
  {
   "cell_type": "markdown",
   "metadata": {},
   "source": [
    "### Helpers"
   ]
  },
  {
   "cell_type": "code",
   "execution_count": 13,
   "metadata": {},
   "outputs": [],
   "source": [
    "from rdkit.Chem import AllChem\n",
    "    \n",
    "# http://rdkit.blogspot.com/2015/02/new-drawing-code.html\n",
    "def moltosvg(rdkit_mol, size_x=450, size_y=150, highlightBonds=[]):\n",
    "    highlightBondColors = {b : (1, .8, .8) for b in highlightBonds}\n",
    "    \n",
    "    AllChem.Compute2DCoords(rdkit_mol)\n",
    "    try:\n",
    "        rdkit_mol.GetAtomWithIdx(0).GetExplicitValence()\n",
    "    except RuntimeError:\n",
    "        rdkit_mol.UpdatePropertyCache(False)\n",
    "    try:\n",
    "        mc_mol = rdc.Draw.rdMolDraw2D.PrepareMolForDrawing(rdkit_mol, kekulize=True)\n",
    "    except ValueError: # <- can happen on a kekulization failure\n",
    "        mc_mol = rdc.Draw.rdMolDraw2D.PrepareMolForDrawing(rdkit_mol, kekulize=False)\n",
    "    drawer = rdc.Draw.rdMolDraw2D.MolDraw2DSVG(size_x, size_y)\n",
    "    drawer.DrawMolecule(mc_mol, \n",
    "                        highlightAtoms=[], \n",
    "                        highlightBonds=highlightBonds, \n",
    "                        highlightBondColors=highlightBondColors\n",
    "                       )\n",
    "    drawer.FinishDrawing()\n",
    "    svg = drawer.GetDrawingText()\n",
    "    # It seems that the svg renderer used doesn't quite hit the spec.\n",
    "    # Here are some fixes to make it work in the notebook, although I think\n",
    "    # the underlying issue needs to be resolved at the generation step\n",
    "    return svg.replace('svg:','')"
   ]
  },
  {
   "cell_type": "code",
   "execution_count": 14,
   "metadata": {},
   "outputs": [],
   "source": [
    "def get_colored_mol(rban_record, svg=False, resolution=(400,200)):\n",
    "    mol_ = rdc.MolFromSmiles(rban_record['isomericSmiles'])\n",
    "    bonds_ = set(bond['bond']['bondTypes'][0] \n",
    "                 for bond in rban_record['monomericGraph']['monomericGraph']['bonds'])\n",
    "\n",
    "    atomic_bonds_ = rban_record[\"atomicGraph\"][\"atomicGraph\"]['bonds']\n",
    "    monomeric_bonds_ = rban_record[\"monomericGraph\"][\"monomericGraph\"]['bonds']\n",
    "    # print(json.dumps(monomeric_bonds_, indent=2))\n",
    "    monomer_bonds_ = [\n",
    "        n\n",
    "        for b in monomeric_bonds_\n",
    "        for x in b['bond']['atomicIndexes']\n",
    "        for n in atomic_bonds_[x]['atoms']\n",
    "    ]\n",
    "#     print(monomer_bonds_)\n",
    "    \n",
    "    if svg:\n",
    "        return moltosvg(mol_, *resolution, list(set(monomer_bonds_)))\n",
    "    \n",
    "    mol_.__sssAtoms = list(set(monomer_bonds_))\n",
    "    return mol_"
   ]
  },
  {
   "cell_type": "code",
   "execution_count": 15,
   "metadata": {},
   "outputs": [],
   "source": [
    "def test_for_compound(rban_record, debug=True):\n",
    "    monomer_smiles = split_by_monomer_bonds(rban_record)\n",
    "    monomers = rban_record['monomericGraph']['monomericGraph']['monomers']\n",
    "    \n",
    "    if debug: print('DEBUG:')\n",
    "    is_d = get_monomers_chirality(rban_record, debug=debug)\n",
    "    if debug: print('---')\n",
    "    res = [\n",
    "        (i, x['monomer']['monomer']['monomer'], monomer_smiles[i], is_d[i]) \n",
    "        for i, x in enumerate(monomers)\n",
    "    ]\n",
    "    return res"
   ]
  },
  {
   "cell_type": "markdown",
   "metadata": {},
   "source": [
    "### Test single compound"
   ]
  },
  {
   "cell_type": "code",
   "execution_count": 16,
   "metadata": {},
   "outputs": [],
   "source": [
    "from IPython.display import SVG"
   ]
  },
  {
   "cell_type": "code",
   "execution_count": 17,
   "metadata": {},
   "outputs": [
    {
     "name": "stdout",
     "output_type": "stream",
     "text": [
      "BGC0001469.gr\n",
      "\n",
      "CC[C@H](C)[C@@H]1NC(=O)[C@@H](Cc2ccccc2)NC(=O)[C@@H]2CSC(=N2)c2csc(n2)-c2csc(n2)-c2csc(n2)[C@@H](C)NC1=O\n",
      "\n"
     ]
    },
    {
     "data": {
      "image/svg+xml": [
       "<svg baseProfile=\"full\" height=\"400px\" version=\"1.1\" viewBox=\"0 0 400 400\" width=\"400px\" xml:space=\"preserve\" xmlns=\"http://www.w3.org/2000/svg\" xmlns:rdkit=\"http://www.rdkit.org/xml\" xmlns:xlink=\"http://www.w3.org/1999/xlink\">\n",
       "<!-- END OF HEADER -->\n",
       "<rect height=\"400\" style=\"opacity:1.0;fill:#FFFFFF;stroke:none\" width=\"400\" x=\"0\" y=\"0\"> </rect>\n",
       "<path d=\"M 236.558,142.039 L 257.522,168.756\" style=\"fill:none;fill-rule:evenodd;stroke:#FFCCCC;stroke-width:14px;stroke-linecap:butt;stroke-linejoin:miter;stroke-opacity:1\"/>\n",
       "<path d=\"M 257.522,168.756 L 287.065,152.008\" style=\"fill:none;fill-rule:evenodd;stroke:#FFCCCC;stroke-width:14px;stroke-linecap:butt;stroke-linejoin:miter;stroke-opacity:1\"/>\n",
       "<path d=\"M 271.952,234.349 L 264.135,267.397\" style=\"fill:none;fill-rule:evenodd;stroke:#FFCCCC;stroke-width:14px;stroke-linecap:butt;stroke-linejoin:miter;stroke-opacity:1\"/>\n",
       "<path d=\"M 264.135,267.397 L 295.648,280.052\" style=\"fill:none;fill-rule:evenodd;stroke:#FFCCCC;stroke-width:14px;stroke-linecap:butt;stroke-linejoin:miter;stroke-opacity:1\"/>\n",
       "<path d=\"M 227.982,348.252 L 201.281,327.268\" style=\"fill:none;fill-rule:evenodd;stroke:#FFCCCC;stroke-width:14px;stroke-linecap:butt;stroke-linejoin:miter;stroke-opacity:1\"/>\n",
       "<path d=\"M 201.281,327.268 L 212.988,295.389\" style=\"fill:none;fill-rule:evenodd;stroke:#FFCCCC;stroke-width:14px;stroke-linecap:butt;stroke-linejoin:miter;stroke-opacity:1\"/>\n",
       "<path d=\"M 201.281,327.268 L 157.517,338.865\" style=\"fill:none;fill-rule:evenodd;stroke:#FFCCCC;stroke-width:14px;stroke-linecap:butt;stroke-linejoin:miter;stroke-opacity:1\"/>\n",
       "<path d=\"M 105.38,356.215 L 93.4977,318.565\" style=\"fill:none;fill-rule:evenodd;stroke:#FFCCCC;stroke-width:14px;stroke-linecap:butt;stroke-linejoin:miter;stroke-opacity:1\"/>\n",
       "<path d=\"M 93.4977,318.565 L 123.978,333.539\" style=\"fill:none;fill-rule:evenodd;stroke:#FFCCCC;stroke-width:14px;stroke-linecap:butt;stroke-linejoin:miter;stroke-opacity:1\"/>\n",
       "<path d=\"M 93.4977,318.565 L 68.7858,295.271\" style=\"fill:none;fill-rule:evenodd;stroke:#FFCCCC;stroke-width:14px;stroke-linecap:butt;stroke-linejoin:miter;stroke-opacity:1\"/>\n",
       "<path d=\"M 22.7139,265.326 L 44.7416,232.561\" style=\"fill:none;fill-rule:evenodd;stroke:#FFCCCC;stroke-width:14px;stroke-linecap:butt;stroke-linejoin:miter;stroke-opacity:1\"/>\n",
       "<path d=\"M 44.7416,232.561 L 52.0377,265.728\" style=\"fill:none;fill-rule:evenodd;stroke:#FFCCCC;stroke-width:14px;stroke-linecap:butt;stroke-linejoin:miter;stroke-opacity:1\"/>\n",
       "<path d=\"M 44.7416,232.561 L 47.5458,198.717\" style=\"fill:none;fill-rule:evenodd;stroke:#FFCCCC;stroke-width:14px;stroke-linecap:butt;stroke-linejoin:miter;stroke-opacity:1\"/>\n",
       "<path d=\"M 42.2322,144.026 L 81.5829,140.82\" style=\"fill:none;fill-rule:evenodd;stroke:#FFCCCC;stroke-width:14px;stroke-linecap:butt;stroke-linejoin:miter;stroke-opacity:1\"/>\n",
       "<path d=\"M 81.5829,140.82 L 60.2011,167.203\" style=\"fill:none;fill-rule:evenodd;stroke:#FFCCCC;stroke-width:14px;stroke-linecap:butt;stroke-linejoin:miter;stroke-opacity:1\"/>\n",
       "<path d=\"M 81.5829,140.82 L 109.792,121.911\" style=\"fill:none;fill-rule:evenodd;stroke:#FFCCCC;stroke-width:14px;stroke-linecap:butt;stroke-linejoin:miter;stroke-opacity:1\"/>\n",
       "<path d=\"M 142.32,112.157 L 176.279,112.424\" style=\"fill:none;fill-rule:evenodd;stroke:#FFCCCC;stroke-width:14px;stroke-linecap:butt;stroke-linejoin:miter;stroke-opacity:1\"/>\n",
       "<path d=\"M 176.279,112.424 L 181.605,78.884\" style=\"fill:none;fill-rule:evenodd;stroke:#FFCCCC;stroke-width:14px;stroke-linecap:butt;stroke-linejoin:miter;stroke-opacity:1\"/>\n",
       "<path class=\"bond-0\" d=\"M 219.692,33.5201 L 204.717,64\" style=\"fill:none;fill-rule:evenodd;stroke:#000000;stroke-width:2px;stroke-linecap:butt;stroke-linejoin:miter;stroke-opacity:1\"/>\n",
       "<path class=\"bond-1\" d=\"M 204.717,64 L 223.626,92.2087\" style=\"fill:none;fill-rule:evenodd;stroke:#000000;stroke-width:2px;stroke-linecap:butt;stroke-linejoin:miter;stroke-opacity:1\"/>\n",
       "<path class=\"bond-2\" d=\"M 227.037,92.3204 L 226.991,91.6427\" style=\"fill:none;fill-rule:evenodd;stroke:#000000;stroke-width:1px;stroke-linecap:butt;stroke-linejoin:miter;stroke-opacity:1\"/>\n",
       "<path class=\"bond-2\" d=\"M 230.448,92.4321 L 230.357,91.0767\" style=\"fill:none;fill-rule:evenodd;stroke:#000000;stroke-width:1px;stroke-linecap:butt;stroke-linejoin:miter;stroke-opacity:1\"/>\n",
       "<path class=\"bond-2\" d=\"M 233.859,92.5438 L 233.723,90.5107\" style=\"fill:none;fill-rule:evenodd;stroke:#000000;stroke-width:1px;stroke-linecap:butt;stroke-linejoin:miter;stroke-opacity:1\"/>\n",
       "<path class=\"bond-2\" d=\"M 237.27,92.6555 L 237.088,89.9448\" style=\"fill:none;fill-rule:evenodd;stroke:#000000;stroke-width:1px;stroke-linecap:butt;stroke-linejoin:miter;stroke-opacity:1\"/>\n",
       "<path class=\"bond-2\" d=\"M 240.681,92.7672 L 240.454,89.3788\" style=\"fill:none;fill-rule:evenodd;stroke:#000000;stroke-width:1px;stroke-linecap:butt;stroke-linejoin:miter;stroke-opacity:1\"/>\n",
       "<path class=\"bond-2\" d=\"M 244.092,92.8789 L 243.82,88.8128\" style=\"fill:none;fill-rule:evenodd;stroke:#000000;stroke-width:1px;stroke-linecap:butt;stroke-linejoin:miter;stroke-opacity:1\"/>\n",
       "<path class=\"bond-2\" d=\"M 247.503,92.9906 L 247.185,88.2469\" style=\"fill:none;fill-rule:evenodd;stroke:#000000;stroke-width:1px;stroke-linecap:butt;stroke-linejoin:miter;stroke-opacity:1\"/>\n",
       "<path class=\"bond-2\" d=\"M 250.914,93.1023 L 250.551,87.6809\" style=\"fill:none;fill-rule:evenodd;stroke:#000000;stroke-width:1px;stroke-linecap:butt;stroke-linejoin:miter;stroke-opacity:1\"/>\n",
       "<path class=\"bond-2\" d=\"M 254.326,93.214 L 253.917,87.1149\" style=\"fill:none;fill-rule:evenodd;stroke:#000000;stroke-width:1px;stroke-linecap:butt;stroke-linejoin:miter;stroke-opacity:1\"/>\n",
       "<path class=\"bond-2\" d=\"M 257.737,93.3257 L 257.282,86.5489\" style=\"fill:none;fill-rule:evenodd;stroke:#000000;stroke-width:1px;stroke-linecap:butt;stroke-linejoin:miter;stroke-opacity:1\"/>\n",
       "<path class=\"bond-3\" d=\"M 223.626,92.2087 L 208.651,122.689\" style=\"fill:none;fill-rule:evenodd;stroke:#000000;stroke-width:2px;stroke-linecap:butt;stroke-linejoin:miter;stroke-opacity:1\"/>\n",
       "<path class=\"bond-4\" d=\"M 210.432,124.337 L 210.819,123.779\" style=\"fill:none;fill-rule:evenodd;stroke:#000000;stroke-width:1px;stroke-linecap:butt;stroke-linejoin:miter;stroke-opacity:1\"/>\n",
       "<path class=\"bond-4\" d=\"M 212.213,125.985 L 212.987,124.869\" style=\"fill:none;fill-rule:evenodd;stroke:#000000;stroke-width:1px;stroke-linecap:butt;stroke-linejoin:miter;stroke-opacity:1\"/>\n",
       "<path class=\"bond-4\" d=\"M 213.994,127.633 L 215.155,125.959\" style=\"fill:none;fill-rule:evenodd;stroke:#000000;stroke-width:1px;stroke-linecap:butt;stroke-linejoin:miter;stroke-opacity:1\"/>\n",
       "<path class=\"bond-4\" d=\"M 215.775,129.281 L 217.323,127.048\" style=\"fill:none;fill-rule:evenodd;stroke:#000000;stroke-width:1px;stroke-linecap:butt;stroke-linejoin:miter;stroke-opacity:1\"/>\n",
       "<path class=\"bond-4\" d=\"M 217.556,130.929 L 219.491,128.138\" style=\"fill:none;fill-rule:evenodd;stroke:#000000;stroke-width:1px;stroke-linecap:butt;stroke-linejoin:miter;stroke-opacity:1\"/>\n",
       "<path class=\"bond-4\" d=\"M 219.336,132.577 L 221.659,129.228\" style=\"fill:none;fill-rule:evenodd;stroke:#0000FF;stroke-width:1px;stroke-linecap:butt;stroke-linejoin:miter;stroke-opacity:1\"/>\n",
       "<path class=\"bond-4\" d=\"M 221.117,134.225 L 223.827,130.318\" style=\"fill:none;fill-rule:evenodd;stroke:#0000FF;stroke-width:1px;stroke-linecap:butt;stroke-linejoin:miter;stroke-opacity:1\"/>\n",
       "<path class=\"bond-4\" d=\"M 222.898,135.874 L 225.994,131.408\" style=\"fill:none;fill-rule:evenodd;stroke:#0000FF;stroke-width:1px;stroke-linecap:butt;stroke-linejoin:miter;stroke-opacity:1\"/>\n",
       "<path class=\"bond-4\" d=\"M 224.679,137.522 L 228.162,132.498\" style=\"fill:none;fill-rule:evenodd;stroke:#0000FF;stroke-width:1px;stroke-linecap:butt;stroke-linejoin:miter;stroke-opacity:1\"/>\n",
       "<path class=\"bond-4\" d=\"M 226.46,139.17 L 230.33,133.588\" style=\"fill:none;fill-rule:evenodd;stroke:#0000FF;stroke-width:1px;stroke-linecap:butt;stroke-linejoin:miter;stroke-opacity:1\"/>\n",
       "<path class=\"bond-43\" d=\"M 208.651,122.689 L 176.279,112.424\" style=\"fill:none;fill-rule:evenodd;stroke:#000000;stroke-width:2px;stroke-linecap:butt;stroke-linejoin:miter;stroke-opacity:1\"/>\n",
       "<path class=\"bond-5\" d=\"M 241,147.699 L 249.261,158.227\" style=\"fill:none;fill-rule:evenodd;stroke:#0000FF;stroke-width:2px;stroke-linecap:butt;stroke-linejoin:miter;stroke-opacity:1\"/>\n",
       "<path class=\"bond-5\" d=\"M 249.261,158.227 L 257.522,168.756\" style=\"fill:none;fill-rule:evenodd;stroke:#000000;stroke-width:2px;stroke-linecap:butt;stroke-linejoin:miter;stroke-opacity:1\"/>\n",
       "<path class=\"bond-6\" d=\"M 259.197,171.71 L 271.326,164.834\" style=\"fill:none;fill-rule:evenodd;stroke:#000000;stroke-width:2px;stroke-linecap:butt;stroke-linejoin:miter;stroke-opacity:1\"/>\n",
       "<path class=\"bond-6\" d=\"M 271.326,164.834 L 283.454,157.959\" style=\"fill:none;fill-rule:evenodd;stroke:#FF0000;stroke-width:2px;stroke-linecap:butt;stroke-linejoin:miter;stroke-opacity:1\"/>\n",
       "<path class=\"bond-6\" d=\"M 255.848,165.801 L 267.976,158.926\" style=\"fill:none;fill-rule:evenodd;stroke:#000000;stroke-width:2px;stroke-linecap:butt;stroke-linejoin:miter;stroke-opacity:1\"/>\n",
       "<path class=\"bond-6\" d=\"M 267.976,158.926 L 280.104,152.05\" style=\"fill:none;fill-rule:evenodd;stroke:#FF0000;stroke-width:2px;stroke-linecap:butt;stroke-linejoin:miter;stroke-opacity:1\"/>\n",
       "<path class=\"bond-7\" d=\"M 257.522,168.756 L 269.68,200.465\" style=\"fill:none;fill-rule:evenodd;stroke:#000000;stroke-width:2px;stroke-linecap:butt;stroke-linejoin:miter;stroke-opacity:1\"/>\n",
       "<path class=\"bond-8\" d=\"M 269.68,200.465 L 303.577,196.485 L 302.118,189.852 Z\" style=\"fill:#000000;fill-rule:evenodd;fill-opacity=1;stroke:#000000;stroke-width:2px;stroke-linecap:butt;stroke-linejoin:miter;stroke-opacity:1;\"/>\n",
       "<path class=\"bond-15\" d=\"M 269.68,200.465 L 270.626,214.577\" style=\"fill:none;fill-rule:evenodd;stroke:#000000;stroke-width:2px;stroke-linecap:butt;stroke-linejoin:miter;stroke-opacity:1\"/>\n",
       "<path class=\"bond-15\" d=\"M 270.626,214.577 L 271.572,228.689\" style=\"fill:none;fill-rule:evenodd;stroke:#0000FF;stroke-width:2px;stroke-linecap:butt;stroke-linejoin:miter;stroke-opacity:1\"/>\n",
       "<path class=\"bond-9\" d=\"M 302.847,193.169 L 325.749,218.244\" style=\"fill:none;fill-rule:evenodd;stroke:#000000;stroke-width:2px;stroke-linecap:butt;stroke-linejoin:miter;stroke-opacity:1\"/>\n",
       "<path class=\"bond-10\" d=\"M 325.749,218.244 L 315.484,250.615\" style=\"fill:none;fill-rule:evenodd;stroke:#000000;stroke-width:2px;stroke-linecap:butt;stroke-linejoin:miter;stroke-opacity:1\"/>\n",
       "<path class=\"bond-10\" d=\"M 330.684,225.153 L 323.498,247.813\" style=\"fill:none;fill-rule:evenodd;stroke:#000000;stroke-width:2px;stroke-linecap:butt;stroke-linejoin:miter;stroke-opacity:1\"/>\n",
       "<path class=\"bond-44\" d=\"M 325.749,218.244 L 358.916,210.948\" style=\"fill:none;fill-rule:evenodd;stroke:#000000;stroke-width:2px;stroke-linecap:butt;stroke-linejoin:miter;stroke-opacity:1\"/>\n",
       "<path class=\"bond-11\" d=\"M 315.484,250.615 L 338.386,275.691\" style=\"fill:none;fill-rule:evenodd;stroke:#000000;stroke-width:2px;stroke-linecap:butt;stroke-linejoin:miter;stroke-opacity:1\"/>\n",
       "<path class=\"bond-12\" d=\"M 338.386,275.691 L 371.553,268.395\" style=\"fill:none;fill-rule:evenodd;stroke:#000000;stroke-width:2px;stroke-linecap:butt;stroke-linejoin:miter;stroke-opacity:1\"/>\n",
       "<path class=\"bond-12\" d=\"M 341.902,267.963 L 365.119,262.856\" style=\"fill:none;fill-rule:evenodd;stroke:#000000;stroke-width:2px;stroke-linecap:butt;stroke-linejoin:miter;stroke-opacity:1\"/>\n",
       "<path class=\"bond-13\" d=\"M 371.553,268.395 L 381.818,236.023\" style=\"fill:none;fill-rule:evenodd;stroke:#000000;stroke-width:2px;stroke-linecap:butt;stroke-linejoin:miter;stroke-opacity:1\"/>\n",
       "<path class=\"bond-14\" d=\"M 381.818,236.023 L 358.916,210.948\" style=\"fill:none;fill-rule:evenodd;stroke:#000000;stroke-width:2px;stroke-linecap:butt;stroke-linejoin:miter;stroke-opacity:1\"/>\n",
       "<path class=\"bond-14\" d=\"M 373.368,236.842 L 357.336,219.29\" style=\"fill:none;fill-rule:evenodd;stroke:#000000;stroke-width:2px;stroke-linecap:butt;stroke-linejoin:miter;stroke-opacity:1\"/>\n",
       "<path class=\"bond-16\" d=\"M 270.613,240.009 L 267.374,253.703\" style=\"fill:none;fill-rule:evenodd;stroke:#0000FF;stroke-width:2px;stroke-linecap:butt;stroke-linejoin:miter;stroke-opacity:1\"/>\n",
       "<path class=\"bond-16\" d=\"M 267.374,253.703 L 264.135,267.397\" style=\"fill:none;fill-rule:evenodd;stroke:#000000;stroke-width:2px;stroke-linecap:butt;stroke-linejoin:miter;stroke-opacity:1\"/>\n",
       "<path class=\"bond-17\" d=\"M 262.869,270.548 L 275.983,275.814\" style=\"fill:none;fill-rule:evenodd;stroke:#000000;stroke-width:2px;stroke-linecap:butt;stroke-linejoin:miter;stroke-opacity:1\"/>\n",
       "<path class=\"bond-17\" d=\"M 275.983,275.814 L 289.097,281.08\" style=\"fill:none;fill-rule:evenodd;stroke:#FF0000;stroke-width:2px;stroke-linecap:butt;stroke-linejoin:miter;stroke-opacity:1\"/>\n",
       "<path class=\"bond-17\" d=\"M 265.4,264.245 L 278.514,269.511\" style=\"fill:none;fill-rule:evenodd;stroke:#000000;stroke-width:2px;stroke-linecap:butt;stroke-linejoin:miter;stroke-opacity:1\"/>\n",
       "<path class=\"bond-17\" d=\"M 278.514,269.511 L 291.628,274.778\" style=\"fill:none;fill-rule:evenodd;stroke:#FF0000;stroke-width:2px;stroke-linecap:butt;stroke-linejoin:miter;stroke-opacity:1\"/>\n",
       "<path class=\"bond-18\" d=\"M 264.135,267.397 L 246.924,296.672\" style=\"fill:none;fill-rule:evenodd;stroke:#000000;stroke-width:2px;stroke-linecap:butt;stroke-linejoin:miter;stroke-opacity:1\"/>\n",
       "<path class=\"bond-19\" d=\"M 246.924,296.672 L 256.19,329.343\" style=\"fill:none;fill-rule:evenodd;stroke:#000000;stroke-width:2px;stroke-linecap:butt;stroke-linejoin:miter;stroke-opacity:1\"/>\n",
       "<path class=\"bond-45\" d=\"M 246.924,296.672 L 232.409,296.123\" style=\"fill:none;fill-rule:evenodd;stroke:#000000;stroke-width:2px;stroke-linecap:butt;stroke-linejoin:miter;stroke-opacity:1\"/>\n",
       "<path class=\"bond-45\" d=\"M 232.409,296.123 L 217.894,295.575\" style=\"fill:none;fill-rule:evenodd;stroke:#0000FF;stroke-width:2px;stroke-linecap:butt;stroke-linejoin:miter;stroke-opacity:1\"/>\n",
       "<path class=\"bond-49\" d=\"M 246.924,296.672 L 264.042,302.291 L 264.906,295.555 Z\" style=\"fill:#000000;fill-rule:evenodd;fill-opacity=1;stroke:#000000;stroke-width:2px;stroke-linecap:butt;stroke-linejoin:miter;stroke-opacity:1;\"/>\n",
       "<path class=\"bond-20\" d=\"M 256.19,329.343 L 244.352,337.279\" style=\"fill:none;fill-rule:evenodd;stroke:#000000;stroke-width:2px;stroke-linecap:butt;stroke-linejoin:miter;stroke-opacity:1\"/>\n",
       "<path class=\"bond-20\" d=\"M 244.352,337.279 L 232.514,345.214\" style=\"fill:none;fill-rule:evenodd;stroke:#CCCC00;stroke-width:2px;stroke-linecap:butt;stroke-linejoin:miter;stroke-opacity:1\"/>\n",
       "<path class=\"bond-21\" d=\"M 223.45,344.69 L 212.366,335.979\" style=\"fill:none;fill-rule:evenodd;stroke:#CCCC00;stroke-width:2px;stroke-linecap:butt;stroke-linejoin:miter;stroke-opacity:1\"/>\n",
       "<path class=\"bond-21\" d=\"M 212.366,335.979 L 201.281,327.268\" style=\"fill:none;fill-rule:evenodd;stroke:#000000;stroke-width:2px;stroke-linecap:butt;stroke-linejoin:miter;stroke-opacity:1\"/>\n",
       "<path class=\"bond-22\" d=\"M 201.281,327.268 L 206.096,314.158\" style=\"fill:none;fill-rule:evenodd;stroke:#000000;stroke-width:2px;stroke-linecap:butt;stroke-linejoin:miter;stroke-opacity:1\"/>\n",
       "<path class=\"bond-22\" d=\"M 206.096,314.158 L 210.91,301.049\" style=\"fill:none;fill-rule:evenodd;stroke:#0000FF;stroke-width:2px;stroke-linecap:butt;stroke-linejoin:miter;stroke-opacity:1\"/>\n",
       "<path class=\"bond-22\" d=\"M 209.101,325.676 L 212.471,316.5\" style=\"fill:none;fill-rule:evenodd;stroke:#000000;stroke-width:2px;stroke-linecap:butt;stroke-linejoin:miter;stroke-opacity:1\"/>\n",
       "<path class=\"bond-22\" d=\"M 212.471,316.5 L 215.841,307.323\" style=\"fill:none;fill-rule:evenodd;stroke:#0000FF;stroke-width:2px;stroke-linecap:butt;stroke-linejoin:miter;stroke-opacity:1\"/>\n",
       "<path class=\"bond-23\" d=\"M 201.281,327.268 L 157.517,338.865\" style=\"fill:none;fill-rule:evenodd;stroke:#000000;stroke-width:2px;stroke-linecap:butt;stroke-linejoin:miter;stroke-opacity:1\"/>\n",
       "<path class=\"bond-24\" d=\"M 157.517,338.865 L 137.752,366.48\" style=\"fill:none;fill-rule:evenodd;stroke:#000000;stroke-width:2px;stroke-linecap:butt;stroke-linejoin:miter;stroke-opacity:1\"/>\n",
       "<path class=\"bond-24\" d=\"M 149.03,339.054 L 135.193,358.385\" style=\"fill:none;fill-rule:evenodd;stroke:#000000;stroke-width:2px;stroke-linecap:butt;stroke-linejoin:miter;stroke-opacity:1\"/>\n",
       "<path class=\"bond-46\" d=\"M 157.517,338.865 L 143.2,336.592\" style=\"fill:none;fill-rule:evenodd;stroke:#000000;stroke-width:2px;stroke-linecap:butt;stroke-linejoin:miter;stroke-opacity:1\"/>\n",
       "<path class=\"bond-46\" d=\"M 143.2,336.592 L 128.883,334.318\" style=\"fill:none;fill-rule:evenodd;stroke:#0000FF;stroke-width:2px;stroke-linecap:butt;stroke-linejoin:miter;stroke-opacity:1\"/>\n",
       "<path class=\"bond-25\" d=\"M 137.752,366.48 L 123.832,362.066\" style=\"fill:none;fill-rule:evenodd;stroke:#000000;stroke-width:2px;stroke-linecap:butt;stroke-linejoin:miter;stroke-opacity:1\"/>\n",
       "<path class=\"bond-25\" d=\"M 123.832,362.066 L 109.912,357.652\" style=\"fill:none;fill-rule:evenodd;stroke:#CCCC00;stroke-width:2px;stroke-linecap:butt;stroke-linejoin:miter;stroke-opacity:1\"/>\n",
       "<path class=\"bond-26\" d=\"M 103.594,350.555 L 98.5458,334.56\" style=\"fill:none;fill-rule:evenodd;stroke:#CCCC00;stroke-width:2px;stroke-linecap:butt;stroke-linejoin:miter;stroke-opacity:1\"/>\n",
       "<path class=\"bond-26\" d=\"M 98.5458,334.56 L 93.4977,318.565\" style=\"fill:none;fill-rule:evenodd;stroke:#000000;stroke-width:2px;stroke-linecap:butt;stroke-linejoin:miter;stroke-opacity:1\"/>\n",
       "<path class=\"bond-27\" d=\"M 93.4977,318.565 L 106.285,324.847\" style=\"fill:none;fill-rule:evenodd;stroke:#000000;stroke-width:2px;stroke-linecap:butt;stroke-linejoin:miter;stroke-opacity:1\"/>\n",
       "<path class=\"bond-27\" d=\"M 106.285,324.847 L 119.072,331.129\" style=\"fill:none;fill-rule:evenodd;stroke:#0000FF;stroke-width:2px;stroke-linecap:butt;stroke-linejoin:miter;stroke-opacity:1\"/>\n",
       "<path class=\"bond-27\" d=\"M 94.3388,326.545 L 103.29,330.943\" style=\"fill:none;fill-rule:evenodd;stroke:#000000;stroke-width:2px;stroke-linecap:butt;stroke-linejoin:miter;stroke-opacity:1\"/>\n",
       "<path class=\"bond-27\" d=\"M 103.29,330.943 L 112.241,335.34\" style=\"fill:none;fill-rule:evenodd;stroke:#0000FF;stroke-width:2px;stroke-linecap:butt;stroke-linejoin:miter;stroke-opacity:1\"/>\n",
       "<path class=\"bond-28\" d=\"M 93.4977,318.565 L 68.7858,295.271\" style=\"fill:none;fill-rule:evenodd;stroke:#000000;stroke-width:2px;stroke-linecap:butt;stroke-linejoin:miter;stroke-opacity:1\"/>\n",
       "<path class=\"bond-29\" d=\"M 68.7858,295.271 L 34.8718,297.035\" style=\"fill:none;fill-rule:evenodd;stroke:#000000;stroke-width:2px;stroke-linecap:butt;stroke-linejoin:miter;stroke-opacity:1\"/>\n",
       "<path class=\"bond-29\" d=\"M 63.3459,288.753 L 39.606,289.988\" style=\"fill:none;fill-rule:evenodd;stroke:#000000;stroke-width:2px;stroke-linecap:butt;stroke-linejoin:miter;stroke-opacity:1\"/>\n",
       "<path class=\"bond-47\" d=\"M 68.7858,295.271 L 62.0161,283.329\" style=\"fill:none;fill-rule:evenodd;stroke:#000000;stroke-width:2px;stroke-linecap:butt;stroke-linejoin:miter;stroke-opacity:1\"/>\n",
       "<path class=\"bond-47\" d=\"M 62.0161,283.329 L 55.2464,271.388\" style=\"fill:none;fill-rule:evenodd;stroke:#0000FF;stroke-width:2px;stroke-linecap:butt;stroke-linejoin:miter;stroke-opacity:1\"/>\n",
       "<path class=\"bond-30\" d=\"M 34.8718,297.035 L 29.8779,284.01\" style=\"fill:none;fill-rule:evenodd;stroke:#000000;stroke-width:2px;stroke-linecap:butt;stroke-linejoin:miter;stroke-opacity:1\"/>\n",
       "<path class=\"bond-30\" d=\"M 29.8779,284.01 L 24.884,270.986\" style=\"fill:none;fill-rule:evenodd;stroke:#CCCC00;stroke-width:2px;stroke-linecap:butt;stroke-linejoin:miter;stroke-opacity:1\"/>\n",
       "<path class=\"bond-31\" d=\"M 26.5191,259.666 L 35.6304,246.114\" style=\"fill:none;fill-rule:evenodd;stroke:#CCCC00;stroke-width:2px;stroke-linecap:butt;stroke-linejoin:miter;stroke-opacity:1\"/>\n",
       "<path class=\"bond-31\" d=\"M 35.6304,246.114 L 44.7416,232.561\" style=\"fill:none;fill-rule:evenodd;stroke:#000000;stroke-width:2px;stroke-linecap:butt;stroke-linejoin:miter;stroke-opacity:1\"/>\n",
       "<path class=\"bond-32\" d=\"M 44.7416,232.561 L 47.7671,246.315\" style=\"fill:none;fill-rule:evenodd;stroke:#000000;stroke-width:2px;stroke-linecap:butt;stroke-linejoin:miter;stroke-opacity:1\"/>\n",
       "<path class=\"bond-32\" d=\"M 47.7671,246.315 L 50.7926,260.068\" style=\"fill:none;fill-rule:evenodd;stroke:#0000FF;stroke-width:2px;stroke-linecap:butt;stroke-linejoin:miter;stroke-opacity:1\"/>\n",
       "<path class=\"bond-32\" d=\"M 39.0159,238.146 L 41.1338,247.774\" style=\"fill:none;fill-rule:evenodd;stroke:#000000;stroke-width:2px;stroke-linecap:butt;stroke-linejoin:miter;stroke-opacity:1\"/>\n",
       "<path class=\"bond-32\" d=\"M 41.1338,247.774 L 43.2516,257.401\" style=\"fill:none;fill-rule:evenodd;stroke:#0000FF;stroke-width:2px;stroke-linecap:butt;stroke-linejoin:miter;stroke-opacity:1\"/>\n",
       "<path class=\"bond-33\" d=\"M 44.7416,232.561 L 47.5458,198.717\" style=\"fill:none;fill-rule:evenodd;stroke:#000000;stroke-width:2px;stroke-linecap:butt;stroke-linejoin:miter;stroke-opacity:1\"/>\n",
       "<path class=\"bond-34\" d=\"M 47.5458,198.717 L 25.0214,173.302\" style=\"fill:none;fill-rule:evenodd;stroke:#000000;stroke-width:2px;stroke-linecap:butt;stroke-linejoin:miter;stroke-opacity:1\"/>\n",
       "<path class=\"bond-34\" d=\"M 49.2502,190.4 L 33.4831,172.609\" style=\"fill:none;fill-rule:evenodd;stroke:#000000;stroke-width:2px;stroke-linecap:butt;stroke-linejoin:miter;stroke-opacity:1\"/>\n",
       "<path class=\"bond-48\" d=\"M 47.5458,198.717 L 52.737,185.79\" style=\"fill:none;fill-rule:evenodd;stroke:#000000;stroke-width:2px;stroke-linecap:butt;stroke-linejoin:miter;stroke-opacity:1\"/>\n",
       "<path class=\"bond-48\" d=\"M 52.737,185.79 L 57.9281,172.863\" style=\"fill:none;fill-rule:evenodd;stroke:#0000FF;stroke-width:2px;stroke-linecap:butt;stroke-linejoin:miter;stroke-opacity:1\"/>\n",
       "<path class=\"bond-35\" d=\"M 25.0214,173.302 L 31.9631,161.494\" style=\"fill:none;fill-rule:evenodd;stroke:#000000;stroke-width:2px;stroke-linecap:butt;stroke-linejoin:miter;stroke-opacity:1\"/>\n",
       "<path class=\"bond-35\" d=\"M 31.9631,161.494 L 38.9048,149.686\" style=\"fill:none;fill-rule:evenodd;stroke:#CCCC00;stroke-width:2px;stroke-linecap:butt;stroke-linejoin:miter;stroke-opacity:1\"/>\n",
       "<path class=\"bond-36\" d=\"M 46.7643,143.657 L 64.1736,142.238\" style=\"fill:none;fill-rule:evenodd;stroke:#CCCC00;stroke-width:2px;stroke-linecap:butt;stroke-linejoin:miter;stroke-opacity:1\"/>\n",
       "<path class=\"bond-36\" d=\"M 64.1736,142.238 L 81.5829,140.82\" style=\"fill:none;fill-rule:evenodd;stroke:#000000;stroke-width:2px;stroke-linecap:butt;stroke-linejoin:miter;stroke-opacity:1\"/>\n",
       "<path class=\"bond-37\" d=\"M 81.5829,140.82 L 73.1855,151.182\" style=\"fill:none;fill-rule:evenodd;stroke:#000000;stroke-width:2px;stroke-linecap:butt;stroke-linejoin:miter;stroke-opacity:1\"/>\n",
       "<path class=\"bond-37\" d=\"M 73.1855,151.182 L 64.7881,161.543\" style=\"fill:none;fill-rule:evenodd;stroke:#0000FF;stroke-width:2px;stroke-linecap:butt;stroke-linejoin:miter;stroke-opacity:1\"/>\n",
       "<path class=\"bond-37\" d=\"M 73.787,139.652 L 67.9088,146.905\" style=\"fill:none;fill-rule:evenodd;stroke:#000000;stroke-width:2px;stroke-linecap:butt;stroke-linejoin:miter;stroke-opacity:1\"/>\n",
       "<path class=\"bond-37\" d=\"M 67.9088,146.905 L 62.0306,154.158\" style=\"fill:none;fill-rule:evenodd;stroke:#0000FF;stroke-width:2px;stroke-linecap:butt;stroke-linejoin:miter;stroke-opacity:1\"/>\n",
       "<path class=\"bond-38\" d=\"M 81.5829,140.82 L 109.792,121.911\" style=\"fill:none;fill-rule:evenodd;stroke:#000000;stroke-width:2px;stroke-linecap:butt;stroke-linejoin:miter;stroke-opacity:1\"/>\n",
       "<path class=\"bond-39\" d=\"M 109.792,121.911 L 98.3692,89.7497 L 92.2269,92.6484 Z\" style=\"fill:#000000;fill-rule:evenodd;fill-opacity=1;stroke:#000000;stroke-width:2px;stroke-linecap:butt;stroke-linejoin:miter;stroke-opacity:1;\"/>\n",
       "<path class=\"bond-40\" d=\"M 109.792,121.911 L 121.15,118.505\" style=\"fill:none;fill-rule:evenodd;stroke:#000000;stroke-width:2px;stroke-linecap:butt;stroke-linejoin:miter;stroke-opacity:1\"/>\n",
       "<path class=\"bond-40\" d=\"M 121.15,118.505 L 132.509,115.099\" style=\"fill:none;fill-rule:evenodd;stroke:#0000FF;stroke-width:2px;stroke-linecap:butt;stroke-linejoin:miter;stroke-opacity:1\"/>\n",
       "<path class=\"bond-41\" d=\"M 152.132,112.234 L 164.206,112.329\" style=\"fill:none;fill-rule:evenodd;stroke:#0000FF;stroke-width:2px;stroke-linecap:butt;stroke-linejoin:miter;stroke-opacity:1\"/>\n",
       "<path class=\"bond-41\" d=\"M 164.206,112.329 L 176.279,112.424\" style=\"fill:none;fill-rule:evenodd;stroke:#000000;stroke-width:2px;stroke-linecap:butt;stroke-linejoin:miter;stroke-opacity:1\"/>\n",
       "<path class=\"bond-42\" d=\"M 179.633,112.956 L 181.847,99.0164\" style=\"fill:none;fill-rule:evenodd;stroke:#000000;stroke-width:2px;stroke-linecap:butt;stroke-linejoin:miter;stroke-opacity:1\"/>\n",
       "<path class=\"bond-42\" d=\"M 181.847,99.0164 L 184.06,85.0766\" style=\"fill:none;fill-rule:evenodd;stroke:#FF0000;stroke-width:2px;stroke-linecap:butt;stroke-linejoin:miter;stroke-opacity:1\"/>\n",
       "<path class=\"bond-42\" d=\"M 172.925,111.891 L 175.139,97.9513\" style=\"fill:none;fill-rule:evenodd;stroke:#000000;stroke-width:2px;stroke-linecap:butt;stroke-linejoin:miter;stroke-opacity:1\"/>\n",
       "<path class=\"bond-42\" d=\"M 175.139,97.9513 L 177.352,84.0115\" style=\"fill:none;fill-rule:evenodd;stroke:#FF0000;stroke-width:2px;stroke-linecap:butt;stroke-linejoin:miter;stroke-opacity:1\"/>\n",
       "<text style=\"font-size:11px;font-style:normal;font-weight:normal;fill-opacity:1;stroke:none;font-family:sans-serif;text-anchor:start;fill:#0000FF\" x=\"226.747\" y=\"147.699\"><tspan>NH</tspan></text>\n",
       "<text style=\"font-size:11px;font-style:normal;font-weight:normal;fill-opacity:1;stroke:none;font-family:sans-serif;text-anchor:start;fill:#FF0000\" x=\"281.779\" y=\"157.668\"><tspan>O</tspan></text>\n",
       "<text style=\"font-size:11px;font-style:normal;font-weight:normal;fill-opacity:1;stroke:none;font-family:sans-serif;text-anchor:start;fill:#0000FF\" x=\"262.14\" y=\"240.009\"><tspan>NH</tspan></text>\n",
       "<text style=\"font-size:11px;font-style:normal;font-weight:normal;fill-opacity:1;stroke:none;font-family:sans-serif;text-anchor:start;fill:#FF0000\" x=\"290.362\" y=\"285.712\"><tspan>O</tspan></text>\n",
       "<text style=\"font-size:11px;font-style:normal;font-weight:normal;fill-opacity:1;stroke:none;font-family:sans-serif;text-anchor:start;fill:#CCCC00\" x=\"223.45\" y=\"353.912\"><tspan>S</tspan></text>\n",
       "<text style=\"font-size:11px;font-style:normal;font-weight:normal;fill-opacity:1;stroke:none;font-family:sans-serif;text-anchor:start;fill:#0000FF\" x=\"208.082\" y=\"301.049\"><tspan>N</tspan></text>\n",
       "<text style=\"font-size:11px;font-style:normal;font-weight:normal;fill-opacity:1;stroke:none;font-family:sans-serif;text-anchor:start;fill:#CCCC00\" x=\"100.848\" y=\"361.875\"><tspan>S</tspan></text>\n",
       "<text style=\"font-size:11px;font-style:normal;font-weight:normal;fill-opacity:1;stroke:none;font-family:sans-serif;text-anchor:start;fill:#0000FF\" x=\"119.072\" y=\"339.199\"><tspan>N</tspan></text>\n",
       "<text style=\"font-size:11px;font-style:normal;font-weight:normal;fill-opacity:1;stroke:none;font-family:sans-serif;text-anchor:start;fill:#CCCC00\" x=\"18.1818\" y=\"270.986\"><tspan>S</tspan></text>\n",
       "<text style=\"font-size:11px;font-style:normal;font-weight:normal;fill-opacity:1;stroke:none;font-family:sans-serif;text-anchor:start;fill:#0000FF\" x=\"47.132\" y=\"271.388\"><tspan>N</tspan></text>\n",
       "<text style=\"font-size:11px;font-style:normal;font-weight:normal;fill-opacity:1;stroke:none;font-family:sans-serif;text-anchor:start;fill:#CCCC00\" x=\"37.7002\" y=\"149.686\"><tspan>S</tspan></text>\n",
       "<text style=\"font-size:11px;font-style:normal;font-weight:normal;fill-opacity:1;stroke:none;font-family:sans-serif;text-anchor:start;fill:#0000FF\" x=\"55.2953\" y=\"172.863\"><tspan>N</tspan></text>\n",
       "<text style=\"font-size:11px;font-style:normal;font-weight:normal;fill-opacity:1;stroke:none;font-family:sans-serif;text-anchor:start;fill:#0000FF\" x=\"132.509\" y=\"117.817\"><tspan>NH</tspan></text>\n",
       "<text style=\"font-size:11px;font-style:normal;font-weight:normal;fill-opacity:1;stroke:none;font-family:sans-serif;text-anchor:start;fill:#FF0000\" x=\"176.319\" y=\"84.544\"><tspan>O</tspan></text>\n",
       "<text style=\"font-size:11px;font-style:normal;font-weight:normal;fill-opacity:1;stroke:none;font-family:sans-serif;text-anchor:start;fill:#000000\" x=\"264.474\" y=\"305.212\"><tspan>H</tspan></text>\n",
       "</svg>"
      ],
      "text/plain": [
       "<IPython.core.display.SVG object>"
      ]
     },
     "metadata": {},
     "output_type": "display_data"
    },
    {
     "name": "stdout",
     "output_type": "stream",
     "text": [
      "DEBUG:\n",
      "0: NoChiralCenters\n",
      "2: NoChiralCenters\n",
      "3: NoChiralCenters\n",
      "---\n"
     ]
    },
    {
     "data": {
      "image/png": "[encoded data removed]",
      "text/plain": [
       "<PIL.PngImagePlugin.PngImageFile image mode=RGB size=600x600 at 0x7FF29B126750>"
      ]
     },
     "metadata": {},
     "output_type": "display_data"
    },
    {
     "data": {
      "text/plain": [
       "[(0, 'dhCys', ['NC(=CS)C(=O)O'], False),\n",
       " (1, 'Ala', ['C[C@@H](N)C(=O)O'], True),\n",
       " (2, 'dhCys', ['NC(=CS)C(=O)O'], False),\n",
       " (3, 'dhCys', ['NC(=CS)C(=O)O'], False),\n",
       " (4, 'Cys', ['N[C@@H](CS)C(=O)O'], False),\n",
       " (5, 'Ile/aIle', ['CC[C@H](C)[C@H](N)C(=O)O'], False),\n",
       " (6, 'Phe', ['N[C@H](Cc1ccccc1)C(=O)O'], True)]"
      ]
     },
     "execution_count": 17,
     "metadata": {},
     "output_type": "execute_result"
    }
   ],
   "source": [
    "compound_idx = 35\n",
    "rban_record = mibig_results_json[compound_idx]\n",
    "print(rban_record['id'], end='\\n\\n')\n",
    "print(rban_record['isomericSmiles'], end='\\n\\n')\n",
    "\n",
    "# display(get_colored_mol(rban_record))\n",
    "display(SVG(get_colored_mol(rban_record, svg=True, resolution=(400,400))))\n",
    "\n",
    "res = test_for_compound(rban_record)\n",
    "\n",
    "display(\n",
    "    rdc.Draw.MolsToGridImage(\n",
    "        [rdc.MolFromSmiles(x[2][0]) for x in res],\n",
    "        legends=[f'{x[0]}: {\"[D]\" if x[3] else \"\"} {x[1]}' for x in res]))\n",
    "res"
   ]
  },
  {
   "cell_type": "code",
   "execution_count": null,
   "metadata": {},
   "outputs": [],
   "source": []
  },
  {
   "cell_type": "markdown",
   "metadata": {},
   "source": [
    "### Test all TestMIBig"
   ]
  },
  {
   "cell_type": "code",
   "execution_count": 18,
   "metadata": {},
   "outputs": [
    {
     "name": "stdout",
     "output_type": "stream",
     "text": [
      "13: WTF: O=C(O)[C@@]1(O)CCCN1\n"
     ]
    }
   ],
   "source": [
    "for i, rban_record in enumerate(mibig_results_json):\n",
    "    test_for_compound(rban_record, debug=False)"
   ]
  }
 ],
 "metadata": {
  "kernelspec": {
   "display_name": "Python [conda env:.conda-py37base] *",
   "language": "python",
   "name": "conda-env-.conda-py37base-py"
  },
  "language_info": {
   "codemirror_mode": {
    "name": "ipython",
    "version": 3
   },
   "file_extension": ".py",
   "mimetype": "text/x-python",
   "name": "python",
   "nbconvert_exporter": "python",
   "pygments_lexer": "ipython3",
   "version": "3.7.5"
  }
 },
 "nbformat": 4,
 "nbformat_minor": 4
}
