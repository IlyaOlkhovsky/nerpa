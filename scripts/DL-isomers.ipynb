{
 "cells": [
  {
   "cell_type": "code",
   "execution_count": 1,
   "metadata": {},
   "outputs": [
    {
     "name": "stderr",
     "output_type": "stream",
     "text": [
      "RDKit WARNING: [02:43:48] Enabling RDKit 2019.09.3 jupyter extensions\n"
     ]
    }
   ],
   "source": [
    "from rdkit import Chem as rdc\n",
    "from collections import defaultdict\n",
    "import json"
   ]
  },
  {
   "cell_type": "markdown",
   "metadata": {},
   "source": [
    "# Script"
   ]
  },
  {
   "cell_type": "markdown",
   "metadata": {},
   "source": [
    "## Single Monomer"
   ]
  },
  {
   "cell_type": "code",
   "execution_count": 2,
   "metadata": {},
   "outputs": [],
   "source": [
    "class NoChiralCenters(Exception):\n",
    "    pass\n",
    "class NoCarboxyl(Exception):\n",
    "    pass\n",
    "class WTF(Exception):\n",
    "    pass"
   ]
  },
  {
   "cell_type": "code",
   "execution_count": 3,
   "metadata": {},
   "outputs": [],
   "source": [
    "def get_aa_chirality(smi):\n",
    "    mol = rdc.MolFromSmiles(smi)\n",
    "    chiral_centers = rdc.FindMolChiralCenters(mol)\n",
    "    if not chiral_centers:\n",
    "        raise NoChiralCenters\n",
    "    \n",
    "    query_alpha = rdc.MolFromSmarts('NC([C](=O)O)')\n",
    "    query_beta = rdc.MolFromSmarts('NCC([C](=O)O)')\n",
    "    \n",
    "    match = mol.GetSubstructMatch(query_beta)\n",
    "    is_beta = True\n",
    "    if not match:\n",
    "        match = mol.GetSubstructMatch(query_alpha)\n",
    "        is_beta = False\n",
    "    if not match:\n",
    "        raise NoCarboxyl\n",
    "\n",
    "    q = rdc.MolFromSmarts('CC([C](=O)O)') if is_beta else rdc.MolFromSmarts('C([C](=O)O)')\n",
    "    RCN_pattern = 'RCN' * 2\n",
    "    NCR_pattern = 'NCR' * 2\n",
    "    \n",
    "    for idx, rs in chiral_centers:\n",
    "        #\n",
    "        # Sadly, we cannot make use of rs here, see \n",
    "        # https://chemistry.stackexchange.com/questions/90826/difference-between-ld-and-sr-in-naming\n",
    "        #\n",
    "        if idx in match:\n",
    "            ch_center = mol.GetAtomWithIdx(idx)\n",
    "            neighbors = [a.GetIdx() for a in ch_center.GetNeighbors()]\n",
    "            for match_cooh in mol.GetSubstructMatches(q):\n",
    "                neighbor_tags = []\n",
    "                for n in neighbors:\n",
    "                    if n in match_cooh:\n",
    "                        neighbor_tags.append('C')\n",
    "                    elif mol.GetAtomWithIdx(n).GetSymbol() == 'N': \n",
    "                        neighbor_tags.append('N')\n",
    "                    else:\n",
    "                        neighbor_tags.append('R')\n",
    "                neighbor_tags = ''.join(neighbor_tags)\n",
    "\n",
    "                # since glutamic acid has several COOH matches\n",
    "                if neighbor_tags in RCN_pattern or neighbor_tags in NCR_pattern:\n",
    "                    if ch_center.GetChiralTag() == rdc.rdchem.ChiralType.CHI_TETRAHEDRAL_CCW:\n",
    "                        return neighbor_tags in RCN_pattern\n",
    "                    else:\n",
    "                        return neighbor_tags in NCR_pattern\n",
    "                        \n",
    "    raise WTF\n",
    "#     return False"
   ]
  },
  {
   "cell_type": "markdown",
   "metadata": {},
   "source": [
    "## Single Molecule"
   ]
  },
  {
   "cell_type": "markdown",
   "metadata": {},
   "source": [
    "### Splitting"
   ]
  },
  {
   "cell_type": "code",
   "execution_count": 4,
   "metadata": {},
   "outputs": [],
   "source": [
    "def get_monomer_bonds(mol, rban_record):\n",
    "    atomic_bonds = rban_record[\"atomicGraph\"][\"atomicGraph\"]['bonds']\n",
    "    monomer_bonds_list = rban_record[\"monomericGraph\"][\"monomericGraph\"]['bonds']\n",
    "    \n",
    "    monomer_bonds = []\n",
    "    monomer_bond_types = []\n",
    "    for bond_rec in monomer_bonds_list:\n",
    "        for x in bond_rec['bond']['atomicIndexes']:\n",
    "            b_ = mol.GetBondBetweenAtoms(*atomic_bonds[x]['atoms'])\n",
    "            if b_:\n",
    "                monomer_bonds.append(b_.GetIdx())\n",
    "                monomer_bond_types.append(bond_rec['bond'][\"bondTypes\"][0])\n",
    "    \n",
    "    return monomer_bonds, monomer_bond_types"
   ]
  },
  {
   "cell_type": "code",
   "execution_count": 5,
   "metadata": {},
   "outputs": [],
   "source": [
    "# To detect aromatic rings, I would loop over the bonds in each ring and\n",
    "# flag the ring as aromatic if all bonds are aromatic:\n",
    "def isRingAromatic(mol, bondRing):\n",
    "        for id in bondRing:\n",
    "            if not mol.GetBondWithIdx(id).GetIsAromatic():\n",
    "                return False\n",
    "        return True"
   ]
  },
  {
   "cell_type": "code",
   "execution_count": 6,
   "metadata": {},
   "outputs": [],
   "source": [
    "def split_amino(rwmol, bonds, trans=False):\n",
    "    for b_idx in sorted(bonds, reverse=True):\n",
    "        # reverse because when a bond or atom is deleted, the bond or \n",
    "        # atom indices are remapped. If you remove bonds with a higher index first,\n",
    "        # bonds with lower indices will not be remapped.\n",
    "        b = rwmol.GetBondWithIdx(b_idx)\n",
    "        st_ = b.GetBeginAtomIdx()\n",
    "        end_ = b.GetEndAtomIdx()\n",
    "        \n",
    "        rwmol.RemoveBond(st_, end_)\n",
    "        new_bond_type = rdc.BondType.DOUBLE if trans else rdc.BondType.SINGLE \n",
    "        if rwmol.GetAtomWithIdx(end_).GetSymbol() == 'C': \n",
    "            new_id = rwmol.AddAtom(rdc.Atom(8))\n",
    "            rwmol.AddBond(end_, new_id, new_bond_type)\n",
    "        if rwmol.GetAtomWithIdx(st_).GetSymbol() == 'C': \n",
    "            new_id = rwmol.AddAtom(rdc.Atom(8))\n",
    "            rwmol.AddBond(st_, new_id, new_bond_type)\n",
    "    return rwmol"
   ]
  },
  {
   "cell_type": "code",
   "execution_count": 7,
   "metadata": {},
   "outputs": [],
   "source": [
    "def split_hetero(rwmol, bonds):\n",
    "    \n",
    "    carbon_ends = set()\n",
    "    for b_idx in sorted(bonds, reverse=True):\n",
    "        b = rwmol.GetBondWithIdx(b_idx)\n",
    "        st_ = b.GetBeginAtomIdx()\n",
    "        end_ = b.GetEndAtomIdx()\n",
    "        rwmol.RemoveBond(st_, end_)\n",
    "        for a in (st_, end_):\n",
    "            if rwmol.GetAtomWithIdx(a).GetSymbol() == 'C': \n",
    "                carbon_ends.add(a)\n",
    "    \n",
    "    for a in carbon_ends:\n",
    "        atom = rwmol.GetAtomWithIdx(a)\n",
    "        atom.SetNumExplicitHs(0)\n",
    "        atom.UpdatePropertyCache()\n",
    "        valence = atom.GetExplicitValence()\n",
    "        \n",
    "        if valence == 1:\n",
    "            new_id1 = rwmol.AddAtom(rdc.Atom(8))\n",
    "            rwmol.AddBond(a, new_id1, rdc.BondType.SINGLE)\n",
    "\n",
    "            new_id2 = rwmol.AddAtom(rdc.Atom(8))\n",
    "            rwmol.AddBond(a, new_id2, rdc.BondType.DOUBLE)\n",
    "        elif valence == 2:\n",
    "            new_id2 = rwmol.AddAtom(rdc.Atom(8))\n",
    "            rwmol.AddBond(a, new_id2, rdc.BondType.DOUBLE)\n",
    "        elif valence == 3:\n",
    "            new_id2 = rwmol.AddAtom(rdc.Atom(8))\n",
    "            rwmol.AddBond(a, new_id2, rdc.BondType.SINGLE)\n",
    "        \n",
    "    return rwmol"
   ]
  },
  {
   "cell_type": "code",
   "execution_count": 8,
   "metadata": {},
   "outputs": [],
   "source": [
    "def split_by_monomer_bonds(rban_record):\n",
    "    HYDROX = ['AMINO', 'ESTER', 'THIOETHER', 'CARBON_CARBON', 'NITROGEN_CARBON2', \n",
    "              'NITROGEN_CARBON',\n",
    "              'CARBON_CARBOXIL', 'CARBOXIL_CARBOXIL', 'GLYCOSIDIC']\n",
    "    HYDROX_TRANS = ['AMINO_TRANS']\n",
    "    HETERO = ['HETEROCYCLE', 'THIAZOLE_CYCLE', 'PYRIMIDINE_CYCLE']\n",
    "    \n",
    "    mol = rdc.MolFromSmiles(rban_record['isomericSmiles'])\n",
    "    # kekulize so that we would not get this annoying Aromatic flag exception\n",
    "    rdc.Kekulize(mol, clearAromaticFlags=True)\n",
    "    \n",
    "    # we will need editable mol instance\n",
    "    rwmol = rdc.RWMol(mol)\n",
    "    monomers = rban_record['monomericGraph']['monomericGraph']['monomers']\n",
    "    \n",
    "    bonds, types = get_monomer_bonds(rwmol, rban_record)\n",
    "    amino_bonds = [b for b, t in zip(bonds, types) if t in HYDROX]\n",
    "    rwmol = split_amino(rwmol, amino_bonds, trans=False)\n",
    "    \n",
    "    bonds, types = get_monomer_bonds(rwmol, rban_record)\n",
    "    amino_trans_bonds = [b for b, t in zip(bonds, types) if t in HYDROX_TRANS]\n",
    "    if amino_trans_bonds:\n",
    "        rwmol = split_amino(rwmol, amino_trans_bonds, trans=True)\n",
    "    \n",
    "    # TODO: consider other(?) bond types\n",
    "    \n",
    "#     display(rdc.Draw.MolsToGridImage(rdc.GetMolFrags(rwmol, asMols=True)))\n",
    "    \n",
    "    bonds, types = get_monomer_bonds(rwmol, rban_record)\n",
    "    hetero_bonds = [b for b, t in zip(bonds, types) if t in HETERO]\n",
    "    if hetero_bonds:\n",
    "        rwmol = split_hetero(rwmol, hetero_bonds)\n",
    " \n",
    "#     display(rdc.Draw.MolsToGridImage(rdc.GetMolFrags(rwmol, asMols=True)))\n",
    "\n",
    "    \n",
    "    frag_ids = rdc.GetMolFrags(rwmol)\n",
    "    frag_smi = [rdc.MolToSmiles(x) for x in rdc.GetMolFrags(rwmol, asMols=True)]\n",
    "\n",
    "    monomer_smiles_dict = defaultdict(list)\n",
    "    for k, monomer in enumerate(monomers):\n",
    "        monomer_atoms = set(monomer['monomer']['atoms'])\n",
    "        for i, frag_atoms in enumerate(map(set, frag_ids)):\n",
    "            if len(monomer_atoms & frag_atoms) > 0:\n",
    "                monomer_smiles_dict[k].append(frag_smi[i])\n",
    "    return monomer_smiles_dict"
   ]
  },
  {
   "cell_type": "markdown",
   "metadata": {},
   "source": [
    "### Get chirality"
   ]
  },
  {
   "cell_type": "code",
   "execution_count": 9,
   "metadata": {},
   "outputs": [],
   "source": [
    "def get_monomers_chirality(rban_record, debug=False):\n",
    "    monomers = rban_record['monomericGraph']['monomericGraph']['monomers']\n",
    "    monomer_smiles_dict = split_by_monomer_bonds(rban_record)\n",
    "    res = []\n",
    "    for i in range(len(monomers)):\n",
    "        try:\n",
    "            res.append(get_aa_chirality(monomer_smiles_dict[i][0]))\n",
    "        except NoChiralCenters:\n",
    "            if debug: print(f'{i}: NoChiralCenters')\n",
    "            res.append(False)\n",
    "        except NoCarboxyl:\n",
    "            if debug: print(f'{i}: NoCarboxyl')\n",
    "            res.append(False)\n",
    "    return res"
   ]
  },
  {
   "cell_type": "code",
   "execution_count": null,
   "metadata": {},
   "outputs": [],
   "source": []
  },
  {
   "cell_type": "markdown",
   "metadata": {},
   "source": [
    "# Tests"
   ]
  },
  {
   "cell_type": "markdown",
   "metadata": {
    "toc-hr-collapsed": true,
    "toc-nb-collapsed": true
   },
   "source": [
    "## AA chirality"
   ]
  },
  {
   "cell_type": "code",
   "execution_count": 10,
   "metadata": {},
   "outputs": [
    {
     "name": "stdout",
     "output_type": "stream",
     "text": [
      "L-(-)-Theanine\n",
      "False False False False False \n",
      "\n",
      "D-(+)-Theanine\n",
      "True True True True True \n",
      "\n",
      "L-beta-Phenylalanine\n",
      "False False False False False \n",
      "\n",
      "D-beta-Phenylalanine\n",
      "True True True True True \n",
      "\n",
      "D-Phenylalanine\n",
      "True True True True True \n",
      "\n",
      "L-2-Aminobutyric acid\n",
      "False False False False False \n",
      "\n",
      "D-2-Aminobutyric acid\n",
      "True True True True True \n",
      "\n",
      "L-glutamic acid\n",
      "False False False False False \n",
      "\n",
      "D-glutamic acid\n",
      "True True True True True \n",
      "\n"
     ]
    }
   ],
   "source": [
    "tests = [\n",
    "    ('C[C@H]([C@@H](C(=O)O)N)O', 'L-(-)-Theanine'),\n",
    "    ('C[C@@H]([C@H](C(=O)O)N)O', 'D-(+)-Theanine'),\n",
    "    ('C1=CC=C(C=C1)[C@@H](CC(=O)[O-])[NH3+]', 'L-beta-Phenylalanine'),\n",
    "    ('C1=CC=C(C=C1)[C@H](CC(=O)[O-])[NH3+]', 'D-beta-Phenylalanine'),\n",
    "    ('C1=CC=C(C=C1)C[C@H](C(=O)O)N', 'D-Phenylalanine'),\n",
    "    ('CC[C@@H](C(=O)O)N', 'L-2-Aminobutyric acid'),\n",
    "    ('CC[C@H](C(=O)O)N', 'D-2-Aminobutyric acid'),\n",
    "    ('C(CC(=O)O)[C@@H](C(=O)O)N', 'L-glutamic acid'),\n",
    "    ('C(CC(=O)O)[C@H](C(=O)O)N', 'D-glutamic acid'),\n",
    "]\n",
    "\n",
    "for s, n in tests:\n",
    "    print(n)\n",
    "    for _ in range(5):\n",
    "        rs = rdc.MolToSmiles(rdc.MolFromSmiles(s), doRandom=True)\n",
    "        print(get_aa_chirality(rs), end=' ')\n",
    "#         get_aa_chirality(rs)\n",
    "#         print(get_aa_chirality(rs))\n",
    "    print(end='\\n\\n')"
   ]
  },
  {
   "cell_type": "code",
   "execution_count": null,
   "metadata": {},
   "outputs": [],
   "source": []
  },
  {
   "cell_type": "markdown",
   "metadata": {},
   "source": [
    "## DL for monomers in compound"
   ]
  },
  {
   "cell_type": "code",
   "execution_count": 11,
   "metadata": {},
   "outputs": [],
   "source": [
    "mibig_results_json = json.loads(\n",
    "    open('TestNerpa_MiBig_base/structure.info.output.json').read()\n",
    ")"
   ]
  },
  {
   "cell_type": "markdown",
   "metadata": {},
   "source": [
    "### TestMIBig bond types"
   ]
  },
  {
   "cell_type": "code",
   "execution_count": 12,
   "metadata": {},
   "outputs": [],
   "source": [
    "bond_type_to_compounds = defaultdict(list)\n",
    "for i, res in enumerate(mibig_results_json):\n",
    "    for bond in res['monomericGraph']['monomericGraph']['bonds']:\n",
    "        bond_type_to_compounds[bond['bond']['bondTypes'][0]].append(i)\n",
    "for k in bond_type_to_compounds.keys():\n",
    "    bond_type_to_compounds[k] = sorted(list(set(bond_type_to_compounds[k])))"
   ]
  },
  {
   "cell_type": "code",
   "execution_count": 13,
   "metadata": {},
   "outputs": [
    {
     "name": "stdout",
     "output_type": "stream",
     "text": [
      "AMINO [0, 1, 2, 3, 4, 5, 6, 7, 8, 9]\n",
      "ESTER [2, 13, 14, 15, 18, 19, 20, 21, 24, 25]\n",
      "CARBON_CARBOXIL [22, 29]\n",
      "NITROGEN_CARBON2 [26]\n",
      "THIAZOLE_CYCLE [30, 35, 44, 52]\n",
      "CARBON_CARBON [33]\n",
      "GLYCOSIDIC [42, 78]\n",
      "PYRIMIDINE_CYCLE [47]\n",
      "HETEROCYCLE [47, 54, 71, 78]\n",
      "AMINO_TRANS [72]\n"
     ]
    }
   ],
   "source": [
    "for k,v in bond_type_to_compounds.items():\n",
    "    print(k, v[:10])"
   ]
  },
  {
   "cell_type": "markdown",
   "metadata": {},
   "source": [
    "### Helpers"
   ]
  },
  {
   "cell_type": "code",
   "execution_count": 14,
   "metadata": {},
   "outputs": [],
   "source": [
    "def test_for_compound(rban_record):\n",
    "    monomer_smiles = split_by_monomer_bonds(rban_record)\n",
    "    monomers = rban_record['monomericGraph']['monomericGraph']['monomers']\n",
    "    \n",
    "    print('DEBUG:')\n",
    "    is_d = get_monomers_chirality(rban_record, debug=True)\n",
    "    print('---')\n",
    "    res = [\n",
    "        (i, x['monomer']['monomer']['monomer'], monomer_smiles[i], is_d[i]) \n",
    "        for i, x in enumerate(monomers)\n",
    "    ]\n",
    "    return res"
   ]
  },
  {
   "cell_type": "code",
   "execution_count": 15,
   "metadata": {},
   "outputs": [],
   "source": [
    "from rdkit.Chem import AllChem\n",
    "    \n",
    "# http://rdkit.blogspot.com/2015/02/new-drawing-code.html\n",
    "def moltosvg(rdkit_mol, size_x=450, size_y=150, highlightBonds=[]):\n",
    "    highlightBondColors = {b : (1, .8, .8) for b in highlightBonds}\n",
    "    \n",
    "    AllChem.Compute2DCoords(rdkit_mol)\n",
    "    try:\n",
    "        rdkit_mol.GetAtomWithIdx(0).GetExplicitValence()\n",
    "    except RuntimeError:\n",
    "        rdkit_mol.UpdatePropertyCache(False)\n",
    "    try:\n",
    "        mc_mol = rdc.Draw.rdMolDraw2D.PrepareMolForDrawing(rdkit_mol, kekulize=True)\n",
    "    except ValueError: # <- can happen on a kekulization failure\n",
    "        mc_mol = rdc.Draw.rdMolDraw2D.PrepareMolForDrawing(rdkit_mol, kekulize=False)\n",
    "    drawer = rdc.Draw.rdMolDraw2D.MolDraw2DSVG(size_x, size_y)\n",
    "    drawer.DrawMolecule(mc_mol, \n",
    "                        highlightAtoms=[], \n",
    "                        highlightBonds=highlightBonds, \n",
    "                        highlightBondColors=highlightBondColors\n",
    "                       )\n",
    "    drawer.FinishDrawing()\n",
    "    svg = drawer.GetDrawingText()\n",
    "    # It seems that the svg renderer used doesn't quite hit the spec.\n",
    "    # Here are some fixes to make it work in the notebook, although I think\n",
    "    # the underlying issue needs to be resolved at the generation step\n",
    "    return svg.replace('svg:','')"
   ]
  },
  {
   "cell_type": "code",
   "execution_count": 16,
   "metadata": {},
   "outputs": [],
   "source": [
    "def get_colored_mol(rban_record, svg=False, resolution=(400,200)):\n",
    "    mol_ = rdc.MolFromSmiles(rban_record['isomericSmiles'])\n",
    "    bonds_ = set(bond['bond']['bondTypes'][0] \n",
    "                 for bond in rban_record['monomericGraph']['monomericGraph']['bonds'])\n",
    "\n",
    "    atomic_bonds_ = rban_record[\"atomicGraph\"][\"atomicGraph\"]['bonds']\n",
    "    monomeric_bonds_ = rban_record[\"monomericGraph\"][\"monomericGraph\"]['bonds']\n",
    "    # print(json.dumps(monomeric_bonds_, indent=2))\n",
    "    monomer_bonds_ = [\n",
    "        n\n",
    "        for b in monomeric_bonds_\n",
    "        for x in b['bond']['atomicIndexes']\n",
    "        for n in atomic_bonds_[x]['atoms']\n",
    "    ]\n",
    "#     print(monomer_bonds_)\n",
    "    \n",
    "    if svg:\n",
    "        return moltosvg(mol_, *resolution, list(set(monomer_bonds_)))\n",
    "    \n",
    "    mol_.__sssAtoms = list(set(monomer_bonds_))\n",
    "    return mol_"
   ]
  },
  {
   "cell_type": "markdown",
   "metadata": {},
   "source": [
    "### Actual Test"
   ]
  },
  {
   "cell_type": "code",
   "execution_count": 17,
   "metadata": {},
   "outputs": [],
   "source": [
    "from IPython.display import SVG"
   ]
  },
  {
   "cell_type": "code",
   "execution_count": 19,
   "metadata": {},
   "outputs": [
    {
     "name": "stdout",
     "output_type": "stream",
     "text": [
      "BGC0001822.gr\n",
      "\n",
      "C/C=C1\\NC(=O)C2CSC(=N2)C2CC(C)N2C(=O)C(CC(C)C)NC(=O)C(C)NC(=O)C(O)COC(=O)C(C(C)C)N(C)C(=O)C(C(C)O)NC(=O)C2CCCCN2C1=O\n",
      "\n"
     ]
    },
    {
     "data": {
      "image/svg+xml": [
       "<svg baseProfile=\"full\" height=\"400px\" version=\"1.1\" viewBox=\"0 0 400 400\" width=\"400px\" xml:space=\"preserve\" xmlns=\"http://www.w3.org/2000/svg\" xmlns:rdkit=\"http://www.rdkit.org/xml\" xmlns:xlink=\"http://www.w3.org/1999/xlink\">\n",
       "<!-- END OF HEADER -->\n",
       "<rect height=\"400\" style=\"opacity:1.0;fill:#FFFFFF;stroke:none\" width=\"400\" x=\"0\" y=\"0\"> </rect>\n",
       "<path d=\"M 226.342,88.2062 L 199.582,86.208\" style=\"fill:none;fill-rule:evenodd;stroke:#FFCCCC;stroke-width:11px;stroke-linecap:butt;stroke-linejoin:miter;stroke-opacity:1\"/>\n",
       "<path d=\"M 199.582,86.208 L 198.571,59.3927\" style=\"fill:none;fill-rule:evenodd;stroke:#FFCCCC;stroke-width:11px;stroke-linecap:butt;stroke-linejoin:miter;stroke-opacity:1\"/>\n",
       "<path d=\"M 130.065,84.0759 L 125.904,115.147\" style=\"fill:none;fill-rule:evenodd;stroke:#FFCCCC;stroke-width:11px;stroke-linecap:butt;stroke-linejoin:miter;stroke-opacity:1\"/>\n",
       "<path d=\"M 125.904,115.147 L 148.071,100.025\" style=\"fill:none;fill-rule:evenodd;stroke:#FFCCCC;stroke-width:11px;stroke-linecap:butt;stroke-linejoin:miter;stroke-opacity:1\"/>\n",
       "<path d=\"M 125.904,115.147 L 107.657,134.823\" style=\"fill:none;fill-rule:evenodd;stroke:#FFCCCC;stroke-width:11px;stroke-linecap:butt;stroke-linejoin:miter;stroke-opacity:1\"/>\n",
       "<path d=\"M 94.246,158.065 L 86.3432,183.71\" style=\"fill:none;fill-rule:evenodd;stroke:#FFCCCC;stroke-width:11px;stroke-linecap:butt;stroke-linejoin:miter;stroke-opacity:1\"/>\n",
       "<path d=\"M 86.3432,183.71 L 59.9754,178.728\" style=\"fill:none;fill-rule:evenodd;stroke:#FFCCCC;stroke-width:11px;stroke-linecap:butt;stroke-linejoin:miter;stroke-opacity:1\"/>\n",
       "<path d=\"M 88.3514,237.003 L 98.1617,261.98\" style=\"fill:none;fill-rule:evenodd;stroke:#FFCCCC;stroke-width:11px;stroke-linecap:butt;stroke-linejoin:miter;stroke-opacity:1\"/>\n",
       "<path d=\"M 98.1617,261.98 L 74.4404,274.525\" style=\"fill:none;fill-rule:evenodd;stroke:#FFCCCC;stroke-width:11px;stroke-linecap:butt;stroke-linejoin:miter;stroke-opacity:1\"/>\n",
       "<path d=\"M 132.96,302.394 L 156.202,315.805\" style=\"fill:none;fill-rule:evenodd;stroke:#FFCCCC;stroke-width:11px;stroke-linecap:butt;stroke-linejoin:miter;stroke-opacity:1\"/>\n",
       "<path d=\"M 156.202,315.805 L 145.478,340.403\" style=\"fill:none;fill-rule:evenodd;stroke:#FFCCCC;stroke-width:11px;stroke-linecap:butt;stroke-linejoin:miter;stroke-opacity:1\"/>\n",
       "<path d=\"M 235.14,321.7 L 260.117,311.889\" style=\"fill:none;fill-rule:evenodd;stroke:#FFCCCC;stroke-width:11px;stroke-linecap:butt;stroke-linejoin:miter;stroke-opacity:1\"/>\n",
       "<path d=\"M 260.117,311.889 L 272.662,335.611\" style=\"fill:none;fill-rule:evenodd;stroke:#FFCCCC;stroke-width:11px;stroke-linecap:butt;stroke-linejoin:miter;stroke-opacity:1\"/>\n",
       "<path d=\"M 300.531,277.092 L 322.126,293.021\" style=\"fill:none;fill-rule:evenodd;stroke:#FFCCCC;stroke-width:11px;stroke-linecap:butt;stroke-linejoin:miter;stroke-opacity:1\"/>\n",
       "<path d=\"M 313.942,253.849 L 338.54,264.573\" style=\"fill:none;fill-rule:evenodd;stroke:#FFCCCC;stroke-width:11px;stroke-linecap:butt;stroke-linejoin:miter;stroke-opacity:1\"/>\n",
       "<path d=\"M 323.843,201.445 L 319.837,174.911\" style=\"fill:none;fill-rule:evenodd;stroke:#FFCCCC;stroke-width:11px;stroke-linecap:butt;stroke-linejoin:miter;stroke-opacity:1\"/>\n",
       "<path d=\"M 319.837,174.911 L 345.755,167.959\" style=\"fill:none;fill-rule:evenodd;stroke:#FFCCCC;stroke-width:11px;stroke-linecap:butt;stroke-linejoin:miter;stroke-opacity:1\"/>\n",
       "<path d=\"M 294.904,127.767 L 275.229,109.52\" style=\"fill:none;fill-rule:evenodd;stroke:#FFCCCC;stroke-width:11px;stroke-linecap:butt;stroke-linejoin:miter;stroke-opacity:1\"/>\n",
       "<path d=\"M 275.229,109.52 L 291.158,87.925\" style=\"fill:none;fill-rule:evenodd;stroke:#FFCCCC;stroke-width:11px;stroke-linecap:butt;stroke-linejoin:miter;stroke-opacity:1\"/>\n",
       "<path class=\"bond-0\" d=\"M 246.77,49.9242 L 262.71,71.5108\" style=\"fill:none;fill-rule:evenodd;stroke:#000000;stroke-width:2px;stroke-linecap:butt;stroke-linejoin:miter;stroke-opacity:1\"/>\n",
       "<path class=\"bond-1\" d=\"M 262.71,71.5108 L 251.986,96.109\" style=\"fill:none;fill-rule:evenodd;stroke:#000000;stroke-width:2px;stroke-linecap:butt;stroke-linejoin:miter;stroke-opacity:1\"/>\n",
       "<path class=\"bond-1\" d=\"M 256.182,73.0557 L 248.675,90.2744\" style=\"fill:none;fill-rule:evenodd;stroke:#000000;stroke-width:2px;stroke-linecap:butt;stroke-linejoin:miter;stroke-opacity:1\"/>\n",
       "<path class=\"bond-2\" d=\"M 251.986,96.109 L 243.04,93.3522\" style=\"fill:none;fill-rule:evenodd;stroke:#000000;stroke-width:2px;stroke-linecap:butt;stroke-linejoin:miter;stroke-opacity:1\"/>\n",
       "<path class=\"bond-2\" d=\"M 243.04,93.3522 L 234.094,90.5954\" style=\"fill:none;fill-rule:evenodd;stroke:#0000FF;stroke-width:2px;stroke-linecap:butt;stroke-linejoin:miter;stroke-opacity:1\"/>\n",
       "<path class=\"bond-59\" d=\"M 251.986,96.109 L 275.229,109.52\" style=\"fill:none;fill-rule:evenodd;stroke:#000000;stroke-width:2px;stroke-linecap:butt;stroke-linejoin:miter;stroke-opacity:1\"/>\n",
       "<path class=\"bond-3\" d=\"M 218.589,87.6273 L 209.085,86.9176\" style=\"fill:none;fill-rule:evenodd;stroke:#0000FF;stroke-width:2px;stroke-linecap:butt;stroke-linejoin:miter;stroke-opacity:1\"/>\n",
       "<path class=\"bond-3\" d=\"M 209.085,86.9176 L 199.582,86.208\" style=\"fill:none;fill-rule:evenodd;stroke:#000000;stroke-width:2px;stroke-linecap:butt;stroke-linejoin:miter;stroke-opacity:1\"/>\n",
       "<path class=\"bond-4\" d=\"M 202.263,86.1069 L 201.842,74.9355\" style=\"fill:none;fill-rule:evenodd;stroke:#000000;stroke-width:2px;stroke-linecap:butt;stroke-linejoin:miter;stroke-opacity:1\"/>\n",
       "<path class=\"bond-4\" d=\"M 201.842,74.9355 L 201.421,63.764\" style=\"fill:none;fill-rule:evenodd;stroke:#FF0000;stroke-width:2px;stroke-linecap:butt;stroke-linejoin:miter;stroke-opacity:1\"/>\n",
       "<path class=\"bond-4\" d=\"M 196.9,86.309 L 196.479,75.1376\" style=\"fill:none;fill-rule:evenodd;stroke:#000000;stroke-width:2px;stroke-linecap:butt;stroke-linejoin:miter;stroke-opacity:1\"/>\n",
       "<path class=\"bond-4\" d=\"M 196.479,75.1376 L 196.058,63.9661\" style=\"fill:none;fill-rule:evenodd;stroke:#FF0000;stroke-width:2px;stroke-linecap:butt;stroke-linejoin:miter;stroke-opacity:1\"/>\n",
       "<path class=\"bond-5\" d=\"M 199.582,86.208 L 173.048,90.2144\" style=\"fill:none;fill-rule:evenodd;stroke:#000000;stroke-width:2px;stroke-linecap:butt;stroke-linejoin:miter;stroke-opacity:1\"/>\n",
       "<path class=\"bond-6\" d=\"M 173.048,90.2144 L 153.787,71.5307\" style=\"fill:none;fill-rule:evenodd;stroke:#000000;stroke-width:2px;stroke-linecap:butt;stroke-linejoin:miter;stroke-opacity:1\"/>\n",
       "<path class=\"bond-60\" d=\"M 173.048,90.2144 L 162.498,94.3583\" style=\"fill:none;fill-rule:evenodd;stroke:#000000;stroke-width:2px;stroke-linecap:butt;stroke-linejoin:miter;stroke-opacity:1\"/>\n",
       "<path class=\"bond-60\" d=\"M 162.498,94.3583 L 151.948,98.5021\" style=\"fill:none;fill-rule:evenodd;stroke:#0000FF;stroke-width:2px;stroke-linecap:butt;stroke-linejoin:miter;stroke-opacity:1\"/>\n",
       "<path class=\"bond-7\" d=\"M 153.787,71.5307 L 143.717,76.8564\" style=\"fill:none;fill-rule:evenodd;stroke:#000000;stroke-width:2px;stroke-linecap:butt;stroke-linejoin:miter;stroke-opacity:1\"/>\n",
       "<path class=\"bond-7\" d=\"M 143.717,76.8564 L 133.647,82.182\" style=\"fill:none;fill-rule:evenodd;stroke:#CCCC00;stroke-width:2px;stroke-linecap:butt;stroke-linejoin:miter;stroke-opacity:1\"/>\n",
       "<path class=\"bond-8\" d=\"M 129.466,88.5482 L 127.685,101.848\" style=\"fill:none;fill-rule:evenodd;stroke:#CCCC00;stroke-width:2px;stroke-linecap:butt;stroke-linejoin:miter;stroke-opacity:1\"/>\n",
       "<path class=\"bond-8\" d=\"M 127.685,101.848 L 125.904,115.147\" style=\"fill:none;fill-rule:evenodd;stroke:#000000;stroke-width:2px;stroke-linecap:butt;stroke-linejoin:miter;stroke-opacity:1\"/>\n",
       "<path class=\"bond-9\" d=\"M 125.904,115.147 L 135.049,108.908\" style=\"fill:none;fill-rule:evenodd;stroke:#000000;stroke-width:2px;stroke-linecap:butt;stroke-linejoin:miter;stroke-opacity:1\"/>\n",
       "<path class=\"bond-9\" d=\"M 135.049,108.908 L 144.195,102.669\" style=\"fill:none;fill-rule:evenodd;stroke:#0000FF;stroke-width:2px;stroke-linecap:butt;stroke-linejoin:miter;stroke-opacity:1\"/>\n",
       "<path class=\"bond-9\" d=\"M 125.623,108.842 L 132.025,104.474\" style=\"fill:none;fill-rule:evenodd;stroke:#000000;stroke-width:2px;stroke-linecap:butt;stroke-linejoin:miter;stroke-opacity:1\"/>\n",
       "<path class=\"bond-9\" d=\"M 132.025,104.474 L 138.427,100.107\" style=\"fill:none;fill-rule:evenodd;stroke:#0000FF;stroke-width:2px;stroke-linecap:butt;stroke-linejoin:miter;stroke-opacity:1\"/>\n",
       "<path class=\"bond-10\" d=\"M 125.904,115.147 L 107.657,134.823\" style=\"fill:none;fill-rule:evenodd;stroke:#000000;stroke-width:2px;stroke-linecap:butt;stroke-linejoin:miter;stroke-opacity:1\"/>\n",
       "<path class=\"bond-11\" d=\"M 107.657,134.823 L 84.4143,121.412\" style=\"fill:none;fill-rule:evenodd;stroke:#000000;stroke-width:2px;stroke-linecap:butt;stroke-linejoin:miter;stroke-opacity:1\"/>\n",
       "<path class=\"bond-61\" d=\"M 107.657,134.823 L 102.242,144.208\" style=\"fill:none;fill-rule:evenodd;stroke:#000000;stroke-width:2px;stroke-linecap:butt;stroke-linejoin:miter;stroke-opacity:1\"/>\n",
       "<path class=\"bond-61\" d=\"M 102.242,144.208 L 96.8266,153.593\" style=\"fill:none;fill-rule:evenodd;stroke:#0000FF;stroke-width:2px;stroke-linecap:butt;stroke-linejoin:miter;stroke-opacity:1\"/>\n",
       "<path class=\"bond-12\" d=\"M 84.4143,121.412 L 71.0033,144.654\" style=\"fill:none;fill-rule:evenodd;stroke:#000000;stroke-width:2px;stroke-linecap:butt;stroke-linejoin:miter;stroke-opacity:1\"/>\n",
       "<path class=\"bond-13\" d=\"M 71.0033,144.654 L 45.0851,151.606\" style=\"fill:none;fill-rule:evenodd;stroke:#000000;stroke-width:2px;stroke-linecap:butt;stroke-linejoin:miter;stroke-opacity:1\"/>\n",
       "<path class=\"bond-14\" d=\"M 71.0033,144.654 L 80.6864,150.242\" style=\"fill:none;fill-rule:evenodd;stroke:#000000;stroke-width:2px;stroke-linecap:butt;stroke-linejoin:miter;stroke-opacity:1\"/>\n",
       "<path class=\"bond-14\" d=\"M 80.6864,150.242 L 90.3696,155.829\" style=\"fill:none;fill-rule:evenodd;stroke:#0000FF;stroke-width:2px;stroke-linecap:butt;stroke-linejoin:miter;stroke-opacity:1\"/>\n",
       "<path class=\"bond-15\" d=\"M 92.8678,162.538 L 89.6055,173.124\" style=\"fill:none;fill-rule:evenodd;stroke:#0000FF;stroke-width:2px;stroke-linecap:butt;stroke-linejoin:miter;stroke-opacity:1\"/>\n",
       "<path class=\"bond-15\" d=\"M 89.6055,173.124 L 86.3432,183.71\" style=\"fill:none;fill-rule:evenodd;stroke:#000000;stroke-width:2px;stroke-linecap:butt;stroke-linejoin:miter;stroke-opacity:1\"/>\n",
       "<path class=\"bond-16\" d=\"M 86.8414,181.073 L 75.7461,178.977\" style=\"fill:none;fill-rule:evenodd;stroke:#000000;stroke-width:2px;stroke-linecap:butt;stroke-linejoin:miter;stroke-opacity:1\"/>\n",
       "<path class=\"bond-16\" d=\"M 75.7461,178.977 L 64.6507,176.88\" style=\"fill:none;fill-rule:evenodd;stroke:#FF0000;stroke-width:2px;stroke-linecap:butt;stroke-linejoin:miter;stroke-opacity:1\"/>\n",
       "<path class=\"bond-16\" d=\"M 85.8451,186.346 L 74.7497,184.25\" style=\"fill:none;fill-rule:evenodd;stroke:#000000;stroke-width:2px;stroke-linecap:butt;stroke-linejoin:miter;stroke-opacity:1\"/>\n",
       "<path class=\"bond-16\" d=\"M 74.7497,184.25 L 63.6543,182.154\" style=\"fill:none;fill-rule:evenodd;stroke:#FF0000;stroke-width:2px;stroke-linecap:butt;stroke-linejoin:miter;stroke-opacity:1\"/>\n",
       "<path class=\"bond-17\" d=\"M 86.3432,183.71 L 84.345,210.469\" style=\"fill:none;fill-rule:evenodd;stroke:#000000;stroke-width:2px;stroke-linecap:butt;stroke-linejoin:miter;stroke-opacity:1\"/>\n",
       "<path class=\"bond-18\" d=\"M 84.345,210.469 L 57.5297,211.48\" style=\"fill:none;fill-rule:evenodd;stroke:#000000;stroke-width:2px;stroke-linecap:butt;stroke-linejoin:miter;stroke-opacity:1\"/>\n",
       "<path class=\"bond-22\" d=\"M 84.345,210.469 L 86.0106,221.5\" style=\"fill:none;fill-rule:evenodd;stroke:#000000;stroke-width:2px;stroke-linecap:butt;stroke-linejoin:miter;stroke-opacity:1\"/>\n",
       "<path class=\"bond-22\" d=\"M 86.0106,221.5 L 87.6761,232.531\" style=\"fill:none;fill-rule:evenodd;stroke:#0000FF;stroke-width:2px;stroke-linecap:butt;stroke-linejoin:miter;stroke-opacity:1\"/>\n",
       "<path class=\"bond-19\" d=\"M 57.5297,211.48 L 44.9971,235.208\" style=\"fill:none;fill-rule:evenodd;stroke:#000000;stroke-width:2px;stroke-linecap:butt;stroke-linejoin:miter;stroke-opacity:1\"/>\n",
       "<path class=\"bond-20\" d=\"M 44.9971,235.208 L 18.1818,236.218\" style=\"fill:none;fill-rule:evenodd;stroke:#000000;stroke-width:2px;stroke-linecap:butt;stroke-linejoin:miter;stroke-opacity:1\"/>\n",
       "<path class=\"bond-21\" d=\"M 44.9971,235.208 L 59.2798,257.925\" style=\"fill:none;fill-rule:evenodd;stroke:#000000;stroke-width:2px;stroke-linecap:butt;stroke-linejoin:miter;stroke-opacity:1\"/>\n",
       "<path class=\"bond-23\" d=\"M 90.1081,241.475 L 94.1349,251.728\" style=\"fill:none;fill-rule:evenodd;stroke:#0000FF;stroke-width:2px;stroke-linecap:butt;stroke-linejoin:miter;stroke-opacity:1\"/>\n",
       "<path class=\"bond-23\" d=\"M 94.1349,251.728 L 98.1617,261.98\" style=\"fill:none;fill-rule:evenodd;stroke:#000000;stroke-width:2px;stroke-linecap:butt;stroke-linejoin:miter;stroke-opacity:1\"/>\n",
       "<path class=\"bond-24\" d=\"M 96.9072,259.608 L 87.1351,264.776\" style=\"fill:none;fill-rule:evenodd;stroke:#000000;stroke-width:2px;stroke-linecap:butt;stroke-linejoin:miter;stroke-opacity:1\"/>\n",
       "<path class=\"bond-24\" d=\"M 87.1351,264.776 L 77.363,269.944\" style=\"fill:none;fill-rule:evenodd;stroke:#FF0000;stroke-width:2px;stroke-linecap:butt;stroke-linejoin:miter;stroke-opacity:1\"/>\n",
       "<path class=\"bond-24\" d=\"M 99.4162,264.352 L 89.6441,269.52\" style=\"fill:none;fill-rule:evenodd;stroke:#000000;stroke-width:2px;stroke-linecap:butt;stroke-linejoin:miter;stroke-opacity:1\"/>\n",
       "<path class=\"bond-24\" d=\"M 89.6441,269.52 L 79.872,274.688\" style=\"fill:none;fill-rule:evenodd;stroke:#FF0000;stroke-width:2px;stroke-linecap:butt;stroke-linejoin:miter;stroke-opacity:1\"/>\n",
       "<path class=\"bond-25\" d=\"M 98.1617,261.98 L 113.284,284.147\" style=\"fill:none;fill-rule:evenodd;stroke:#000000;stroke-width:2px;stroke-linecap:butt;stroke-linejoin:miter;stroke-opacity:1\"/>\n",
       "<path class=\"bond-26\" d=\"M 113.284,284.147 L 92.9489,301.656\" style=\"fill:none;fill-rule:evenodd;stroke:#000000;stroke-width:2px;stroke-linecap:butt;stroke-linejoin:miter;stroke-opacity:1\"/>\n",
       "<path class=\"bond-27\" d=\"M 113.284,284.147 L 120.71,291.035\" style=\"fill:none;fill-rule:evenodd;stroke:#000000;stroke-width:2px;stroke-linecap:butt;stroke-linejoin:miter;stroke-opacity:1\"/>\n",
       "<path class=\"bond-27\" d=\"M 120.71,291.035 L 128.137,297.922\" style=\"fill:none;fill-rule:evenodd;stroke:#0000FF;stroke-width:2px;stroke-linecap:butt;stroke-linejoin:miter;stroke-opacity:1\"/>\n",
       "<path class=\"bond-28\" d=\"M 140.711,306.867 L 148.457,311.336\" style=\"fill:none;fill-rule:evenodd;stroke:#0000FF;stroke-width:2px;stroke-linecap:butt;stroke-linejoin:miter;stroke-opacity:1\"/>\n",
       "<path class=\"bond-28\" d=\"M 148.457,311.336 L 156.202,315.805\" style=\"fill:none;fill-rule:evenodd;stroke:#000000;stroke-width:2px;stroke-linecap:butt;stroke-linejoin:miter;stroke-opacity:1\"/>\n",
       "<path class=\"bond-29\" d=\"M 153.743,314.733 L 149.355,324.796\" style=\"fill:none;fill-rule:evenodd;stroke:#000000;stroke-width:2px;stroke-linecap:butt;stroke-linejoin:miter;stroke-opacity:1\"/>\n",
       "<path class=\"bond-29\" d=\"M 149.355,324.796 L 144.968,334.859\" style=\"fill:none;fill-rule:evenodd;stroke:#FF0000;stroke-width:2px;stroke-linecap:butt;stroke-linejoin:miter;stroke-opacity:1\"/>\n",
       "<path class=\"bond-29\" d=\"M 158.662,316.878 L 154.275,326.941\" style=\"fill:none;fill-rule:evenodd;stroke:#000000;stroke-width:2px;stroke-linecap:butt;stroke-linejoin:miter;stroke-opacity:1\"/>\n",
       "<path class=\"bond-29\" d=\"M 154.275,326.941 L 149.888,337.003\" style=\"fill:none;fill-rule:evenodd;stroke:#FF0000;stroke-width:2px;stroke-linecap:butt;stroke-linejoin:miter;stroke-opacity:1\"/>\n",
       "<path class=\"bond-30\" d=\"M 156.202,315.805 L 181.847,323.708\" style=\"fill:none;fill-rule:evenodd;stroke:#000000;stroke-width:2px;stroke-linecap:butt;stroke-linejoin:miter;stroke-opacity:1\"/>\n",
       "<path class=\"bond-31\" d=\"M 181.847,323.708 L 179.778,334.656\" style=\"fill:none;fill-rule:evenodd;stroke:#000000;stroke-width:2px;stroke-linecap:butt;stroke-linejoin:miter;stroke-opacity:1\"/>\n",
       "<path class=\"bond-31\" d=\"M 179.778,334.656 L 177.71,345.603\" style=\"fill:none;fill-rule:evenodd;stroke:#FF0000;stroke-width:2px;stroke-linecap:butt;stroke-linejoin:miter;stroke-opacity:1\"/>\n",
       "<path class=\"bond-32\" d=\"M 181.847,323.708 L 208.607,325.706\" style=\"fill:none;fill-rule:evenodd;stroke:#000000;stroke-width:2px;stroke-linecap:butt;stroke-linejoin:miter;stroke-opacity:1\"/>\n",
       "<path class=\"bond-33\" d=\"M 208.607,325.706 L 219.785,324.018\" style=\"fill:none;fill-rule:evenodd;stroke:#000000;stroke-width:2px;stroke-linecap:butt;stroke-linejoin:miter;stroke-opacity:1\"/>\n",
       "<path class=\"bond-33\" d=\"M 219.785,324.018 L 230.963,322.33\" style=\"fill:none;fill-rule:evenodd;stroke:#FF0000;stroke-width:2px;stroke-linecap:butt;stroke-linejoin:miter;stroke-opacity:1\"/>\n",
       "<path class=\"bond-34\" d=\"M 239.317,320.059 L 249.717,315.974\" style=\"fill:none;fill-rule:evenodd;stroke:#FF0000;stroke-width:2px;stroke-linecap:butt;stroke-linejoin:miter;stroke-opacity:1\"/>\n",
       "<path class=\"bond-34\" d=\"M 249.717,315.974 L 260.117,311.889\" style=\"fill:none;fill-rule:evenodd;stroke:#000000;stroke-width:2px;stroke-linecap:butt;stroke-linejoin:miter;stroke-opacity:1\"/>\n",
       "<path class=\"bond-35\" d=\"M 257.745,313.144 L 262.835,322.768\" style=\"fill:none;fill-rule:evenodd;stroke:#000000;stroke-width:2px;stroke-linecap:butt;stroke-linejoin:miter;stroke-opacity:1\"/>\n",
       "<path class=\"bond-35\" d=\"M 262.835,322.768 L 267.925,332.393\" style=\"fill:none;fill-rule:evenodd;stroke:#FF0000;stroke-width:2px;stroke-linecap:butt;stroke-linejoin:miter;stroke-opacity:1\"/>\n",
       "<path class=\"bond-35\" d=\"M 262.489,310.635 L 267.579,320.259\" style=\"fill:none;fill-rule:evenodd;stroke:#000000;stroke-width:2px;stroke-linecap:butt;stroke-linejoin:miter;stroke-opacity:1\"/>\n",
       "<path class=\"bond-35\" d=\"M 267.579,320.259 L 272.669,329.884\" style=\"fill:none;fill-rule:evenodd;stroke:#FF0000;stroke-width:2px;stroke-linecap:butt;stroke-linejoin:miter;stroke-opacity:1\"/>\n",
       "<path class=\"bond-36\" d=\"M 260.117,311.889 L 282.284,296.767\" style=\"fill:none;fill-rule:evenodd;stroke:#000000;stroke-width:2px;stroke-linecap:butt;stroke-linejoin:miter;stroke-opacity:1\"/>\n",
       "<path class=\"bond-37\" d=\"M 282.284,296.767 L 299.793,317.102\" style=\"fill:none;fill-rule:evenodd;stroke:#000000;stroke-width:2px;stroke-linecap:butt;stroke-linejoin:miter;stroke-opacity:1\"/>\n",
       "<path class=\"bond-40\" d=\"M 282.284,296.767 L 289.47,289.019\" style=\"fill:none;fill-rule:evenodd;stroke:#000000;stroke-width:2px;stroke-linecap:butt;stroke-linejoin:miter;stroke-opacity:1\"/>\n",
       "<path class=\"bond-40\" d=\"M 289.47,289.019 L 296.655,281.272\" style=\"fill:none;fill-rule:evenodd;stroke:#0000FF;stroke-width:2px;stroke-linecap:butt;stroke-linejoin:miter;stroke-opacity:1\"/>\n",
       "<path class=\"bond-38\" d=\"M 299.793,317.102 L 290.937,342.433\" style=\"fill:none;fill-rule:evenodd;stroke:#000000;stroke-width:2px;stroke-linecap:butt;stroke-linejoin:miter;stroke-opacity:1\"/>\n",
       "<path class=\"bond-39\" d=\"M 299.793,317.102 L 326.159,312.107\" style=\"fill:none;fill-rule:evenodd;stroke:#000000;stroke-width:2px;stroke-linecap:butt;stroke-linejoin:miter;stroke-opacity:1\"/>\n",
       "<path class=\"bond-41\" d=\"M 304.408,279.951 L 313.267,286.486\" style=\"fill:none;fill-rule:evenodd;stroke:#0000FF;stroke-width:2px;stroke-linecap:butt;stroke-linejoin:miter;stroke-opacity:1\"/>\n",
       "<path class=\"bond-41\" d=\"M 313.267,286.486 L 322.126,293.021\" style=\"fill:none;fill-rule:evenodd;stroke:#000000;stroke-width:2px;stroke-linecap:butt;stroke-linejoin:miter;stroke-opacity:1\"/>\n",
       "<path class=\"bond-42\" d=\"M 303.112,272.619 L 308.527,263.234\" style=\"fill:none;fill-rule:evenodd;stroke:#0000FF;stroke-width:2px;stroke-linecap:butt;stroke-linejoin:miter;stroke-opacity:1\"/>\n",
       "<path class=\"bond-42\" d=\"M 308.527,263.234 L 313.942,253.849\" style=\"fill:none;fill-rule:evenodd;stroke:#000000;stroke-width:2px;stroke-linecap:butt;stroke-linejoin:miter;stroke-opacity:1\"/>\n",
       "<path class=\"bond-43\" d=\"M 312.87,256.309 L 323.08,260.76\" style=\"fill:none;fill-rule:evenodd;stroke:#000000;stroke-width:2px;stroke-linecap:butt;stroke-linejoin:miter;stroke-opacity:1\"/>\n",
       "<path class=\"bond-43\" d=\"M 323.08,260.76 L 333.291,265.212\" style=\"fill:none;fill-rule:evenodd;stroke:#FF0000;stroke-width:2px;stroke-linecap:butt;stroke-linejoin:miter;stroke-opacity:1\"/>\n",
       "<path class=\"bond-43\" d=\"M 315.015,251.389 L 325.225,255.841\" style=\"fill:none;fill-rule:evenodd;stroke:#000000;stroke-width:2px;stroke-linecap:butt;stroke-linejoin:miter;stroke-opacity:1\"/>\n",
       "<path class=\"bond-43\" d=\"M 325.225,255.841 L 335.436,260.292\" style=\"fill:none;fill-rule:evenodd;stroke:#FF0000;stroke-width:2px;stroke-linecap:butt;stroke-linejoin:miter;stroke-opacity:1\"/>\n",
       "<path class=\"bond-44\" d=\"M 313.942,253.849 L 321.845,228.205\" style=\"fill:none;fill-rule:evenodd;stroke:#000000;stroke-width:2px;stroke-linecap:butt;stroke-linejoin:miter;stroke-opacity:1\"/>\n",
       "<path class=\"bond-45\" d=\"M 321.845,228.205 L 348.213,233.186\" style=\"fill:none;fill-rule:evenodd;stroke:#000000;stroke-width:2px;stroke-linecap:butt;stroke-linejoin:miter;stroke-opacity:1\"/>\n",
       "<path class=\"bond-48\" d=\"M 321.845,228.205 L 322.677,217.061\" style=\"fill:none;fill-rule:evenodd;stroke:#000000;stroke-width:2px;stroke-linecap:butt;stroke-linejoin:miter;stroke-opacity:1\"/>\n",
       "<path class=\"bond-48\" d=\"M 322.677,217.061 L 323.509,205.917\" style=\"fill:none;fill-rule:evenodd;stroke:#0000FF;stroke-width:2px;stroke-linecap:butt;stroke-linejoin:miter;stroke-opacity:1\"/>\n",
       "<path class=\"bond-46\" d=\"M 348.213,233.186 L 357.082,258.513\" style=\"fill:none;fill-rule:evenodd;stroke:#000000;stroke-width:2px;stroke-linecap:butt;stroke-linejoin:miter;stroke-opacity:1\"/>\n",
       "<path class=\"bond-47\" d=\"M 348.213,233.186 L 355.039,225.25\" style=\"fill:none;fill-rule:evenodd;stroke:#000000;stroke-width:2px;stroke-linecap:butt;stroke-linejoin:miter;stroke-opacity:1\"/>\n",
       "<path class=\"bond-47\" d=\"M 355.039,225.25 L 361.864,217.314\" style=\"fill:none;fill-rule:evenodd;stroke:#FF0000;stroke-width:2px;stroke-linecap:butt;stroke-linejoin:miter;stroke-opacity:1\"/>\n",
       "<path class=\"bond-49\" d=\"M 323.168,196.972 L 321.502,185.942\" style=\"fill:none;fill-rule:evenodd;stroke:#0000FF;stroke-width:2px;stroke-linecap:butt;stroke-linejoin:miter;stroke-opacity:1\"/>\n",
       "<path class=\"bond-49\" d=\"M 321.502,185.942 L 319.837,174.911\" style=\"fill:none;fill-rule:evenodd;stroke:#000000;stroke-width:2px;stroke-linecap:butt;stroke-linejoin:miter;stroke-opacity:1\"/>\n",
       "<path class=\"bond-50\" d=\"M 320.532,177.503 L 331.403,174.587\" style=\"fill:none;fill-rule:evenodd;stroke:#000000;stroke-width:2px;stroke-linecap:butt;stroke-linejoin:miter;stroke-opacity:1\"/>\n",
       "<path class=\"bond-50\" d=\"M 331.403,174.587 L 342.273,171.671\" style=\"fill:none;fill-rule:evenodd;stroke:#FF0000;stroke-width:2px;stroke-linecap:butt;stroke-linejoin:miter;stroke-opacity:1\"/>\n",
       "<path class=\"bond-50\" d=\"M 319.142,172.319 L 330.012,169.404\" style=\"fill:none;fill-rule:evenodd;stroke:#000000;stroke-width:2px;stroke-linecap:butt;stroke-linejoin:miter;stroke-opacity:1\"/>\n",
       "<path class=\"bond-50\" d=\"M 330.012,169.404 L 340.883,166.488\" style=\"fill:none;fill-rule:evenodd;stroke:#FF0000;stroke-width:2px;stroke-linecap:butt;stroke-linejoin:miter;stroke-opacity:1\"/>\n",
       "<path class=\"bond-51\" d=\"M 319.837,174.911 L 310.027,149.934\" style=\"fill:none;fill-rule:evenodd;stroke:#000000;stroke-width:2px;stroke-linecap:butt;stroke-linejoin:miter;stroke-opacity:1\"/>\n",
       "<path class=\"bond-52\" d=\"M 310.027,149.934 L 336.785,147.922\" style=\"fill:none;fill-rule:evenodd;stroke:#000000;stroke-width:2px;stroke-linecap:butt;stroke-linejoin:miter;stroke-opacity:1\"/>\n",
       "<path class=\"bond-62\" d=\"M 310.027,149.934 L 303.991,141.087\" style=\"fill:none;fill-rule:evenodd;stroke:#000000;stroke-width:2px;stroke-linecap:butt;stroke-linejoin:miter;stroke-opacity:1\"/>\n",
       "<path class=\"bond-62\" d=\"M 303.991,141.087 L 297.955,132.239\" style=\"fill:none;fill-rule:evenodd;stroke:#0000FF;stroke-width:2px;stroke-linecap:butt;stroke-linejoin:miter;stroke-opacity:1\"/>\n",
       "<path class=\"bond-53\" d=\"M 336.785,147.922 L 348.422,123.742\" style=\"fill:none;fill-rule:evenodd;stroke:#000000;stroke-width:2px;stroke-linecap:butt;stroke-linejoin:miter;stroke-opacity:1\"/>\n",
       "<path class=\"bond-54\" d=\"M 348.422,123.742 L 333.3,101.574\" style=\"fill:none;fill-rule:evenodd;stroke:#000000;stroke-width:2px;stroke-linecap:butt;stroke-linejoin:miter;stroke-opacity:1\"/>\n",
       "<path class=\"bond-55\" d=\"M 333.3,101.574 L 306.541,103.587\" style=\"fill:none;fill-rule:evenodd;stroke:#000000;stroke-width:2px;stroke-linecap:butt;stroke-linejoin:miter;stroke-opacity:1\"/>\n",
       "<path class=\"bond-56\" d=\"M 306.541,103.587 L 301.799,113.441\" style=\"fill:none;fill-rule:evenodd;stroke:#000000;stroke-width:2px;stroke-linecap:butt;stroke-linejoin:miter;stroke-opacity:1\"/>\n",
       "<path class=\"bond-56\" d=\"M 301.799,113.441 L 297.057,123.294\" style=\"fill:none;fill-rule:evenodd;stroke:#0000FF;stroke-width:2px;stroke-linecap:butt;stroke-linejoin:miter;stroke-opacity:1\"/>\n",
       "<path class=\"bond-57\" d=\"M 291.028,124.172 L 283.128,116.846\" style=\"fill:none;fill-rule:evenodd;stroke:#0000FF;stroke-width:2px;stroke-linecap:butt;stroke-linejoin:miter;stroke-opacity:1\"/>\n",
       "<path class=\"bond-57\" d=\"M 283.128,116.846 L 275.229,109.52\" style=\"fill:none;fill-rule:evenodd;stroke:#000000;stroke-width:2px;stroke-linecap:butt;stroke-linejoin:miter;stroke-opacity:1\"/>\n",
       "<path class=\"bond-58\" d=\"M 277.388,111.113 L 283.703,102.552\" style=\"fill:none;fill-rule:evenodd;stroke:#000000;stroke-width:2px;stroke-linecap:butt;stroke-linejoin:miter;stroke-opacity:1\"/>\n",
       "<path class=\"bond-58\" d=\"M 283.703,102.552 L 290.018,93.9903\" style=\"fill:none;fill-rule:evenodd;stroke:#FF0000;stroke-width:2px;stroke-linecap:butt;stroke-linejoin:miter;stroke-opacity:1\"/>\n",
       "<path class=\"bond-58\" d=\"M 273.069,107.927 L 279.384,99.3658\" style=\"fill:none;fill-rule:evenodd;stroke:#000000;stroke-width:2px;stroke-linecap:butt;stroke-linejoin:miter;stroke-opacity:1\"/>\n",
       "<path class=\"bond-58\" d=\"M 279.384,99.3658 L 285.699,90.8045\" style=\"fill:none;fill-rule:evenodd;stroke:#FF0000;stroke-width:2px;stroke-linecap:butt;stroke-linejoin:miter;stroke-opacity:1\"/>\n",
       "<text style=\"font-size:8px;font-style:normal;font-weight:normal;fill-opacity:1;stroke:none;font-family:sans-serif;text-anchor:start;fill:#0000FF\" x=\"218.589\" y=\"92.6786\"><tspan>NH</tspan></text>\n",
       "<text style=\"font-size:8px;font-style:normal;font-weight:normal;fill-opacity:1;stroke:none;font-family:sans-serif;text-anchor:start;fill:#FF0000\" x=\"194.394\" y=\"63.865\"><tspan>O</tspan></text>\n",
       "<text style=\"font-size:8px;font-style:normal;font-weight:normal;fill-opacity:1;stroke:none;font-family:sans-serif;text-anchor:start;fill:#CCCC00\" x=\"126.484\" y=\"88.5482\"><tspan>S</tspan></text>\n",
       "<text style=\"font-size:8px;font-style:normal;font-weight:normal;fill-opacity:1;stroke:none;font-family:sans-serif;text-anchor:start;fill:#0000FF\" x=\"144.195\" y=\"104.497\"><tspan>N</tspan></text>\n",
       "<text style=\"font-size:8px;font-style:normal;font-weight:normal;fill-opacity:1;stroke:none;font-family:sans-serif;text-anchor:start;fill:#0000FF\" x=\"90.3696\" y=\"162.538\"><tspan>N</tspan></text>\n",
       "<text style=\"font-size:8px;font-style:normal;font-weight:normal;fill-opacity:1;stroke:none;font-family:sans-serif;text-anchor:start;fill:#FF0000\" x=\"55.7983\" y=\"183.2\"><tspan>O</tspan></text>\n",
       "<text style=\"font-size:8px;font-style:normal;font-weight:normal;fill-opacity:1;stroke:none;font-family:sans-serif;text-anchor:start;fill:#0000FF\" x=\"80.5986\" y=\"241.475\"><tspan>NH</tspan></text>\n",
       "<text style=\"font-size:8px;font-style:normal;font-weight:normal;fill-opacity:1;stroke:none;font-family:sans-serif;text-anchor:start;fill:#FF0000\" x=\"70.2633\" y=\"278.997\"><tspan>O</tspan></text>\n",
       "<text style=\"font-size:8px;font-style:normal;font-weight:normal;fill-opacity:1;stroke:none;font-family:sans-serif;text-anchor:start;fill:#0000FF\" x=\"125.207\" y=\"306.867\"><tspan>NH</tspan></text>\n",
       "<text style=\"font-size:8px;font-style:normal;font-weight:normal;fill-opacity:1;stroke:none;font-family:sans-serif;text-anchor:start;fill:#FF0000\" x=\"141.301\" y=\"344.876\"><tspan>O</tspan></text>\n",
       "<text style=\"font-size:8px;font-style:normal;font-weight:normal;fill-opacity:1;stroke:none;font-family:sans-serif;text-anchor:start;fill:#FF0000\" x=\"168.811\" y=\"354.548\"><tspan>OH</tspan></text>\n",
       "<text style=\"font-size:8px;font-style:normal;font-weight:normal;fill-opacity:1;stroke:none;font-family:sans-serif;text-anchor:start;fill:#FF0000\" x=\"230.963\" y=\"326.172\"><tspan>O</tspan></text>\n",
       "<text style=\"font-size:8px;font-style:normal;font-weight:normal;fill-opacity:1;stroke:none;font-family:sans-serif;text-anchor:start;fill:#FF0000\" x=\"268.485\" y=\"340.083\"><tspan>O</tspan></text>\n",
       "<text style=\"font-size:8px;font-style:normal;font-weight:normal;fill-opacity:1;stroke:none;font-family:sans-serif;text-anchor:start;fill:#0000FF\" x=\"296.655\" y=\"281.564\"><tspan>N</tspan></text>\n",
       "<text style=\"font-size:8px;font-style:normal;font-weight:normal;fill-opacity:1;stroke:none;font-family:sans-serif;text-anchor:start;fill:#FF0000\" x=\"334.363\" y=\"269.046\"><tspan>O</tspan></text>\n",
       "<text style=\"font-size:8px;font-style:normal;font-weight:normal;fill-opacity:1;stroke:none;font-family:sans-serif;text-anchor:start;fill:#FF0000\" x=\"357.658\" y=\"217.314\"><tspan>OH</tspan></text>\n",
       "<text style=\"font-size:8px;font-style:normal;font-weight:normal;fill-opacity:1;stroke:none;font-family:sans-serif;text-anchor:start;fill:#0000FF\" x=\"316.09\" y=\"205.917\"><tspan>NH</tspan></text>\n",
       "<text style=\"font-size:8px;font-style:normal;font-weight:normal;fill-opacity:1;stroke:none;font-family:sans-serif;text-anchor:start;fill:#FF0000\" x=\"341.578\" y=\"172.431\"><tspan>O</tspan></text>\n",
       "<text style=\"font-size:8px;font-style:normal;font-weight:normal;fill-opacity:1;stroke:none;font-family:sans-serif;text-anchor:start;fill:#0000FF\" x=\"291.028\" y=\"132.239\"><tspan>N</tspan></text>\n",
       "<text style=\"font-size:8px;font-style:normal;font-weight:normal;fill-opacity:1;stroke:none;font-family:sans-serif;text-anchor:start;fill:#FF0000\" x=\"286.981\" y=\"92.3974\"><tspan>O</tspan></text>\n",
       "</svg>"
      ],
      "text/plain": [
       "<IPython.core.display.SVG object>"
      ]
     },
     "metadata": {},
     "output_type": "display_data"
    },
    {
     "name": "stdout",
     "output_type": "stream",
     "text": [
      "DEBUG:\n",
      "0: NoChiralCenters\n",
      "1: NoChiralCenters\n",
      "2: NoChiralCenters\n",
      "3: NoChiralCenters\n",
      "4: NoChiralCenters\n",
      "5: NoChiralCenters\n",
      "6: NoChiralCenters\n",
      "7: NoChiralCenters\n",
      "8: NoChiralCenters\n",
      "---\n"
     ]
    },
    {
     "data": {
      "image/png": "[encoded data removed]",
      "text/plain": [
       "<PIL.PngImagePlugin.PngImageFile image mode=RGB size=600x600 at 0x7FAEF63FDC10>"
      ]
     },
     "metadata": {},
     "output_type": "display_data"
    },
    {
     "data": {
      "text/plain": [
       "[(0, 'X0', ['O=C(O)C(O)CO'], False),\n",
       " (1, 'NMe-Val', ['CNC(C(=O)O)C(C)C'], False),\n",
       " (2, 'X1', ['CC1CC(C(=O)O)N1'], False),\n",
       " (3, 'Leu', ['CC(C)CC(N)C(=O)O'], False),\n",
       " (4, 'dhAbu', ['C/C=C(\\\\N)C(=O)O'], False),\n",
       " (5, 'Cys', ['NC(CS)C(=O)O'], False),\n",
       " (6, 'aThr/Thr', ['CC(O)C(N)C(=O)O'], False),\n",
       " (7, 'Hpr', ['O=C(O)C1CCCCN1'], False),\n",
       " (8, 'Ala', ['CC(N)C(=O)O'], False)]"
      ]
     },
     "execution_count": 19,
     "metadata": {},
     "output_type": "execute_result"
    }
   ],
   "source": [
    "compound_idx = 30\n",
    "rban_record = mibig_results_json[compound_idx]\n",
    "print(rban_record['id'], end='\\n\\n')\n",
    "print(rban_record['isomericSmiles'], end='\\n\\n')\n",
    "\n",
    "# display(get_colored_mol(rban_record))\n",
    "display(SVG(get_colored_mol(rban_record, svg=True, resolution=(400,400))))\n",
    "\n",
    "res = test_for_compound(rban_record)\n",
    "\n",
    "display(\n",
    "    rdc.Draw.MolsToGridImage(\n",
    "        [rdc.MolFromSmiles(x[2][0]) for x in res],\n",
    "        legends=[f'{x[0]}: {\"[D]\" if x[3] else \"\"} {x[1]}' for x in res]))\n",
    "res"
   ]
  },
  {
   "cell_type": "code",
   "execution_count": null,
   "metadata": {},
   "outputs": [],
   "source": []
  }
 ],
 "metadata": {
  "kernelspec": {
   "display_name": "Python [conda env:.conda-py37base] *",
   "language": "python",
   "name": "conda-env-.conda-py37base-py"
  },
  "language_info": {
   "codemirror_mode": {
    "name": "ipython",
    "version": 3
   },
   "file_extension": ".py",
   "mimetype": "text/x-python",
   "name": "python",
   "nbconvert_exporter": "python",
   "pygments_lexer": "ipython3",
   "version": "3.7.5"
  }
 },
 "nbformat": 4,
 "nbformat_minor": 4
}
